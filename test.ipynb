{
 "cells": [
  {
   "cell_type": "code",
   "execution_count": 1,
   "metadata": {},
   "outputs": [
    {
     "name": "stderr",
     "output_type": "stream",
     "text": [
      "c:\\Users\\wangz\\anaconda3\\envs\\sp\\lib\\site-packages\\tqdm\\auto.py:21: TqdmWarning: IProgress not found. Please update jupyter and ipywidgets. See https://ipywidgets.readthedocs.io/en/stable/user_install.html\n",
      "  from .autonotebook import tqdm as notebook_tqdm\n"
     ]
    }
   ],
   "source": [
    "import math\n",
    "import numpy as np\n",
    "import matplotlib.pyplot as plt\n",
    "import torch\n",
    "import torch.optim as optim\n",
    "import torch.nn as nn\n",
    "import evaluate\n",
    "import gensim\n",
    "import transformers\n",
    "import nltk\n",
    "import torch_geometric\n",
    "import json\n",
    "from xml.dom import minidom\n",
    "from tqdm import tqdm\n",
    "\n",
    "from modeling import testModel\n",
    "\n",
    "device = torch.device(\"cuda:0\" if torch.cuda.is_available() else \"cpu\")"
   ]
  },
  {
   "cell_type": "code",
   "execution_count": 2,
   "metadata": {},
   "outputs": [],
   "source": [
    "# This cell makes sure modules are auto-loaded when you change external python files\n",
    "%load_ext autoreload\n",
    "%autoreload 2"
   ]
  },
  {
   "cell_type": "code",
   "execution_count": 3,
   "metadata": {},
   "outputs": [],
   "source": [
    "from os import listdir\n",
    "from os.path import isfile, join\n",
    "\n",
    "mypath = \"pants_straight_sides_1000\"\n",
    "\n",
    "onlyfiles_pants = [join(mypath,f, f + \"_pattern.svg\") for f in listdir(mypath) if not isfile(join(mypath, f))]\n",
    "\n",
    "file_names_pants = [f for f in listdir(mypath) if not isfile(join(mypath, f))]\n",
    "\n",
    "mypath = \"skirt_2_panels_1200\"\n",
    "\n",
    "onlyfiles_skirt = [join(mypath,f, f + \"_pattern.svg\") for f in listdir(mypath) if not isfile(join(mypath, f))]\n",
    "\n",
    "file_names_skirt = [f for f in listdir(mypath) if not isfile(join(mypath, f))]"
   ]
  },
  {
   "cell_type": "code",
   "execution_count": 4,
   "metadata": {},
   "outputs": [
    {
     "data": {
      "text/plain": [
       "1200"
      ]
     },
     "execution_count": 4,
     "metadata": {},
     "output_type": "execute_result"
    }
   ],
   "source": [
    "len(file_names_skirt)"
   ]
  },
  {
   "cell_type": "code",
   "execution_count": 5,
   "metadata": {},
   "outputs": [],
   "source": [
    "def read_svg_string(svg_strings):\n",
    "    edge_list = []\n",
    "    edge_index = []\n",
    "    ps = 0\n",
    "    pe = 0\n",
    "\n",
    "    panel_list = []\n",
    "\n",
    "    for i in svg_strings:\n",
    "        ps = pe\n",
    "        tmp = i.split()\n",
    "        prev_x = float(tmp[1])\n",
    "        prev_y = float(tmp[2])\n",
    "        j = 3\n",
    "        while j < len(tmp):\n",
    "            edge = [prev_x, prev_y]\n",
    "            if tmp[j] == 'z':\n",
    "                break\n",
    "\n",
    "            if tmp[j] == 'L':\n",
    "                edge.append(float(tmp[j+1]))\n",
    "                edge.append(float(tmp[j+2]))\n",
    "                prev_x = float(tmp[j+1])\n",
    "                prev_y = float(tmp[j+2])\n",
    "                edge.append((edge[0] + edge[2]) / 2)\n",
    "                edge.append((edge[1] + edge[3]) / 2)\n",
    "                j = j + 3\n",
    "                pe += 1\n",
    "                edge_list.append(edge)\n",
    "                continue\n",
    "            if tmp[j] == 'Q':\n",
    "                prev_x = float(tmp[j+3])\n",
    "                prev_y = float(tmp[j+4])\n",
    "                edge.append(float(tmp[j+3]))\n",
    "                edge.append(float(tmp[j+4]))\n",
    "                edge.append(float(tmp[j+1]))\n",
    "                edge.append(float(tmp[j+2]))\n",
    "                j = j + 5\n",
    "                pe += 1\n",
    "                edge_list.append(edge)\n",
    "                continue\n",
    "        for j in range(ps, pe - 1):\n",
    "            edge_index.append([j, j + 1])\n",
    "        edge_index.append([pe - 1, ps])\n",
    "        panel_list.append(pe - ps)\n",
    "\n",
    "    return [edge_list,edge_index, panel_list]\n",
    "            \n"
   ]
  },
  {
   "cell_type": "code",
   "execution_count": 6,
   "metadata": {},
   "outputs": [],
   "source": [
    "def get_data_from_spec(file_path):\n",
    "    doc = minidom.parse(file_path)  # parseString also exists\n",
    "    path_strings = [path.getAttribute('d') for path\n",
    "                in doc.getElementsByTagName('path')]\n",
    "    return read_svg_string(path_strings)"
   ]
  },
  {
   "cell_type": "code",
   "execution_count": 7,
   "metadata": {},
   "outputs": [],
   "source": [
    "data_pants = [get_data_from_spec(i) for i in onlyfiles_pants]\n",
    "data_skirt = [get_data_from_spec(i) for i in onlyfiles_skirt]\n",
    "\n",
    "train_data_pants = data_pants[100:]\n",
    "test_data_pants = data_pants[:100]\n",
    "\n",
    "train_data_skirt = data_skirt[100:]\n",
    "test_data_skirt = data_skirt[:100]\n",
    "\n",
    "train_data = train_data_pants + train_data_skirt\n",
    "test_data = test_data_pants + test_data_skirt"
   ]
  },
  {
   "cell_type": "code",
   "execution_count": 23,
   "metadata": {},
   "outputs": [
    {
     "data": {
      "text/plain": [
       "[[[60.0, 285.0, 216.0, 285.0, 138.0, 318.53418917280607],\n",
       "  [216.0, 285.0, 213.0, 105.0, 214.5, 195.0],\n",
       "  [213.0, 105.0, 198.0, 60.0, 205.5, 82.5],\n",
       "  [198.0, 60.0, 78.0, 60.0, 138.0, 72.0],\n",
       "  [78.0, 60.0, 63.0, 105.0, 70.5, 82.5],\n",
       "  [63.0, 105.0, 60.0, 285.0, 61.5, 195.0],\n",
       "  [276.0, 285.0, 432.0, 285.0, 354.0, 207.76996717634685],\n",
       "  [432.0, 285.0, 429.0, 105.0, 430.5, 195.0],\n",
       "  [429.0, 105.0, 414.0, 60.0, 421.5, 82.5],\n",
       "  [414.0, 60.0, 294.0, 60.0, 354.0, 72.0],\n",
       "  [294.0, 60.0, 279.0, 105.0, 286.5, 82.5],\n",
       "  [279.0, 105.0, 276.0, 285.0, 277.5, 195.0]],\n",
       " [[0, 1],\n",
       "  [1, 2],\n",
       "  [2, 3],\n",
       "  [3, 4],\n",
       "  [4, 5],\n",
       "  [5, 0],\n",
       "  [6, 7],\n",
       "  [7, 8],\n",
       "  [8, 9],\n",
       "  [9, 10],\n",
       "  [10, 11],\n",
       "  [11, 6]]]"
      ]
     },
     "execution_count": 23,
     "metadata": {},
     "output_type": "execute_result"
    }
   ],
   "source": [
    "name = \"skirt_2_panels_1200\\skirt_2_panels_0AG3RA5IMQ\\skirt_2_panels_0AG3RA5IMQ_pattern.svg\"\n",
    "tmp = get_data_from_spec(\"skirt_2_panels_1200\\skirt_2_panels_0AG3RA5IMQ\\skirt_2_panels_0AG3RA5IMQ_pattern.svg\")\n",
    "tmp"
   ]
  },
  {
   "cell_type": "code",
   "execution_count": 9,
   "metadata": {},
   "outputs": [],
   "source": [
    "lr = 1e-3\n",
    "num_epochs = 50\n",
    "\n",
    "model = testModel(6).to(device)\n",
    "criterion = nn.MSELoss()\n",
    "optimizer = optim.Adam(model.parameters(), lr=lr)"
   ]
  },
  {
   "cell_type": "code",
   "execution_count": 10,
   "metadata": {},
   "outputs": [
    {
     "name": "stderr",
     "output_type": "stream",
     "text": [
      "  0%|          | 0/50 [00:00<?, ?it/s]"
     ]
    },
    {
     "name": "stdout",
     "output_type": "stream",
     "text": [
      "Epoch 1 | Train Loss: 30109.1134\n"
     ]
    },
    {
     "name": "stderr",
     "output_type": "stream",
     "text": [
      "  2%|▏         | 1/50 [00:20<16:58, 20.78s/it]"
     ]
    },
    {
     "name": "stdout",
     "output_type": "stream",
     "text": [
      "Epoch 1 | Eval Loss: 5548.7894\n"
     ]
    },
    {
     "name": "stderr",
     "output_type": "stream",
     "text": []
    },
    {
     "name": "stdout",
     "output_type": "stream",
     "text": [
      "Epoch 2 | Train Loss: 3090.4312\n"
     ]
    },
    {
     "name": "stderr",
     "output_type": "stream",
     "text": [
      "  4%|▍         | 2/50 [01:00<25:38, 32.04s/it]"
     ]
    },
    {
     "name": "stdout",
     "output_type": "stream",
     "text": [
      "Epoch 2 | Eval Loss: 3276.3377\n"
     ]
    },
    {
     "name": "stderr",
     "output_type": "stream",
     "text": []
    },
    {
     "name": "stdout",
     "output_type": "stream",
     "text": [
      "Epoch 3 | Train Loss: 1873.1177\n"
     ]
    },
    {
     "name": "stderr",
     "output_type": "stream",
     "text": [
      "  6%|▌         | 3/50 [01:22<21:16, 27.15s/it]"
     ]
    },
    {
     "name": "stdout",
     "output_type": "stream",
     "text": [
      "Epoch 3 | Eval Loss: 2446.8714\n"
     ]
    },
    {
     "name": "stderr",
     "output_type": "stream",
     "text": []
    },
    {
     "name": "stdout",
     "output_type": "stream",
     "text": [
      "Epoch 4 | Train Loss: 1279.3485\n"
     ]
    },
    {
     "name": "stderr",
     "output_type": "stream",
     "text": [
      "  8%|▊         | 4/50 [01:45<19:35, 25.55s/it]"
     ]
    },
    {
     "name": "stdout",
     "output_type": "stream",
     "text": [
      "Epoch 4 | Eval Loss: 1740.5675\n"
     ]
    },
    {
     "name": "stderr",
     "output_type": "stream",
     "text": []
    },
    {
     "name": "stdout",
     "output_type": "stream",
     "text": [
      "Epoch 5 | Train Loss: 923.9310\n"
     ]
    },
    {
     "name": "stderr",
     "output_type": "stream",
     "text": [
      " 10%|█         | 5/50 [02:07<18:19, 24.43s/it]"
     ]
    },
    {
     "name": "stdout",
     "output_type": "stream",
     "text": [
      "Epoch 5 | Eval Loss: 1448.8873\n"
     ]
    },
    {
     "name": "stderr",
     "output_type": "stream",
     "text": []
    },
    {
     "name": "stdout",
     "output_type": "stream",
     "text": [
      "Epoch 6 | Train Loss: 727.4413\n"
     ]
    },
    {
     "name": "stderr",
     "output_type": "stream",
     "text": [
      " 12%|█▏        | 6/50 [02:27<16:53, 23.03s/it]"
     ]
    },
    {
     "name": "stdout",
     "output_type": "stream",
     "text": [
      "Epoch 6 | Eval Loss: 1146.0563\n"
     ]
    },
    {
     "name": "stderr",
     "output_type": "stream",
     "text": []
    },
    {
     "name": "stdout",
     "output_type": "stream",
     "text": [
      "Epoch 7 | Train Loss: 601.8061\n"
     ]
    },
    {
     "name": "stderr",
     "output_type": "stream",
     "text": [
      " 14%|█▍        | 7/50 [02:48<15:51, 22.14s/it]"
     ]
    },
    {
     "name": "stdout",
     "output_type": "stream",
     "text": [
      "Epoch 7 | Eval Loss: 1132.3901\n"
     ]
    },
    {
     "name": "stderr",
     "output_type": "stream",
     "text": []
    },
    {
     "name": "stdout",
     "output_type": "stream",
     "text": [
      "Epoch 8 | Train Loss: 506.9702\n"
     ]
    },
    {
     "name": "stderr",
     "output_type": "stream",
     "text": [
      " 16%|█▌        | 8/50 [03:08<14:59, 21.41s/it]"
     ]
    },
    {
     "name": "stdout",
     "output_type": "stream",
     "text": [
      "Epoch 8 | Eval Loss: 832.0585\n"
     ]
    },
    {
     "name": "stderr",
     "output_type": "stream",
     "text": []
    },
    {
     "name": "stdout",
     "output_type": "stream",
     "text": [
      "Epoch 9 | Train Loss: 444.1565\n"
     ]
    },
    {
     "name": "stderr",
     "output_type": "stream",
     "text": [
      " 18%|█▊        | 9/50 [03:28<14:19, 20.96s/it]"
     ]
    },
    {
     "name": "stdout",
     "output_type": "stream",
     "text": [
      "Epoch 9 | Eval Loss: 720.3332\n"
     ]
    },
    {
     "name": "stderr",
     "output_type": "stream",
     "text": []
    },
    {
     "name": "stdout",
     "output_type": "stream",
     "text": [
      "Epoch 10 | Train Loss: 387.9562\n"
     ]
    },
    {
     "name": "stderr",
     "output_type": "stream",
     "text": [
      " 20%|██        | 10/50 [03:48<13:47, 20.69s/it]"
     ]
    },
    {
     "name": "stdout",
     "output_type": "stream",
     "text": [
      "Epoch 10 | Eval Loss: 755.8167\n"
     ]
    },
    {
     "name": "stderr",
     "output_type": "stream",
     "text": []
    },
    {
     "name": "stdout",
     "output_type": "stream",
     "text": [
      "Epoch 11 | Train Loss: 343.2037\n"
     ]
    },
    {
     "name": "stderr",
     "output_type": "stream",
     "text": [
      " 22%|██▏       | 11/50 [04:07<13:16, 20.42s/it]"
     ]
    },
    {
     "name": "stdout",
     "output_type": "stream",
     "text": [
      "Epoch 11 | Eval Loss: 726.7722\n"
     ]
    },
    {
     "name": "stderr",
     "output_type": "stream",
     "text": []
    },
    {
     "name": "stdout",
     "output_type": "stream",
     "text": [
      "Epoch 12 | Train Loss: 316.6912\n"
     ]
    },
    {
     "name": "stderr",
     "output_type": "stream",
     "text": [
      " 24%|██▍       | 12/50 [04:28<12:57, 20.46s/it]"
     ]
    },
    {
     "name": "stdout",
     "output_type": "stream",
     "text": [
      "Epoch 12 | Eval Loss: 708.7673\n"
     ]
    },
    {
     "name": "stderr",
     "output_type": "stream",
     "text": []
    },
    {
     "name": "stdout",
     "output_type": "stream",
     "text": [
      "Epoch 13 | Train Loss: 286.2314\n"
     ]
    },
    {
     "name": "stderr",
     "output_type": "stream",
     "text": [
      " 26%|██▌       | 13/50 [04:48<12:30, 20.29s/it]"
     ]
    },
    {
     "name": "stdout",
     "output_type": "stream",
     "text": [
      "Epoch 13 | Eval Loss: 709.3541\n"
     ]
    },
    {
     "name": "stderr",
     "output_type": "stream",
     "text": []
    },
    {
     "name": "stdout",
     "output_type": "stream",
     "text": [
      "Epoch 14 | Train Loss: 269.7263\n"
     ]
    },
    {
     "name": "stderr",
     "output_type": "stream",
     "text": [
      " 28%|██▊       | 14/50 [05:08<12:07, 20.20s/it]"
     ]
    },
    {
     "name": "stdout",
     "output_type": "stream",
     "text": [
      "Epoch 14 | Eval Loss: 690.1216\n"
     ]
    },
    {
     "name": "stderr",
     "output_type": "stream",
     "text": []
    },
    {
     "name": "stdout",
     "output_type": "stream",
     "text": [
      "Epoch 15 | Train Loss: 258.4183\n"
     ]
    },
    {
     "name": "stderr",
     "output_type": "stream",
     "text": [
      " 30%|███       | 15/50 [05:29<11:51, 20.34s/it]"
     ]
    },
    {
     "name": "stdout",
     "output_type": "stream",
     "text": [
      "Epoch 15 | Eval Loss: 642.3159\n"
     ]
    },
    {
     "name": "stderr",
     "output_type": "stream",
     "text": []
    },
    {
     "name": "stdout",
     "output_type": "stream",
     "text": [
      "Epoch 16 | Train Loss: 241.1489\n"
     ]
    },
    {
     "name": "stderr",
     "output_type": "stream",
     "text": [
      " 32%|███▏      | 16/50 [05:48<11:26, 20.18s/it]"
     ]
    },
    {
     "name": "stdout",
     "output_type": "stream",
     "text": [
      "Epoch 16 | Eval Loss: 730.1649\n"
     ]
    },
    {
     "name": "stderr",
     "output_type": "stream",
     "text": []
    },
    {
     "name": "stdout",
     "output_type": "stream",
     "text": [
      "Epoch 17 | Train Loss: 226.8518\n"
     ]
    },
    {
     "name": "stderr",
     "output_type": "stream",
     "text": [
      " 34%|███▍      | 17/50 [06:08<11:02, 20.06s/it]"
     ]
    },
    {
     "name": "stdout",
     "output_type": "stream",
     "text": [
      "Epoch 17 | Eval Loss: 556.6745\n"
     ]
    },
    {
     "name": "stderr",
     "output_type": "stream",
     "text": []
    },
    {
     "name": "stdout",
     "output_type": "stream",
     "text": [
      "Epoch 18 | Train Loss: 214.8659\n"
     ]
    },
    {
     "name": "stderr",
     "output_type": "stream",
     "text": [
      " 36%|███▌      | 18/50 [06:28<10:40, 20.01s/it]"
     ]
    },
    {
     "name": "stdout",
     "output_type": "stream",
     "text": [
      "Epoch 18 | Eval Loss: 551.3744\n"
     ]
    },
    {
     "name": "stderr",
     "output_type": "stream",
     "text": []
    },
    {
     "name": "stdout",
     "output_type": "stream",
     "text": [
      "Epoch 19 | Train Loss: 201.6770\n"
     ]
    },
    {
     "name": "stderr",
     "output_type": "stream",
     "text": [
      " 38%|███▊      | 19/50 [06:48<10:20, 20.02s/it]"
     ]
    },
    {
     "name": "stdout",
     "output_type": "stream",
     "text": [
      "Epoch 19 | Eval Loss: 521.1505\n"
     ]
    },
    {
     "name": "stderr",
     "output_type": "stream",
     "text": []
    },
    {
     "name": "stdout",
     "output_type": "stream",
     "text": [
      "Epoch 20 | Train Loss: 196.2964\n"
     ]
    },
    {
     "name": "stderr",
     "output_type": "stream",
     "text": [
      " 40%|████      | 20/50 [07:08<10:00, 20.02s/it]"
     ]
    },
    {
     "name": "stdout",
     "output_type": "stream",
     "text": [
      "Epoch 20 | Eval Loss: 499.3336\n"
     ]
    },
    {
     "name": "stderr",
     "output_type": "stream",
     "text": []
    },
    {
     "name": "stdout",
     "output_type": "stream",
     "text": [
      "Epoch 21 | Train Loss: 186.9842\n"
     ]
    },
    {
     "name": "stderr",
     "output_type": "stream",
     "text": [
      " 42%|████▏     | 21/50 [07:28<09:41, 20.06s/it]"
     ]
    },
    {
     "name": "stdout",
     "output_type": "stream",
     "text": [
      "Epoch 21 | Eval Loss: 469.7761\n"
     ]
    },
    {
     "name": "stderr",
     "output_type": "stream",
     "text": []
    },
    {
     "name": "stdout",
     "output_type": "stream",
     "text": [
      "Epoch 22 | Train Loss: 180.1213\n"
     ]
    },
    {
     "name": "stderr",
     "output_type": "stream",
     "text": [
      " 44%|████▍     | 22/50 [07:48<09:21, 20.07s/it]"
     ]
    },
    {
     "name": "stdout",
     "output_type": "stream",
     "text": [
      "Epoch 22 | Eval Loss: 488.6428\n"
     ]
    },
    {
     "name": "stderr",
     "output_type": "stream",
     "text": []
    },
    {
     "name": "stdout",
     "output_type": "stream",
     "text": [
      "Epoch 23 | Train Loss: 171.4155\n"
     ]
    },
    {
     "name": "stderr",
     "output_type": "stream",
     "text": [
      " 46%|████▌     | 23/50 [08:08<09:01, 20.07s/it]"
     ]
    },
    {
     "name": "stdout",
     "output_type": "stream",
     "text": [
      "Epoch 23 | Eval Loss: 480.5086\n"
     ]
    },
    {
     "name": "stderr",
     "output_type": "stream",
     "text": []
    },
    {
     "name": "stdout",
     "output_type": "stream",
     "text": [
      "Epoch 24 | Train Loss: 161.5951\n"
     ]
    },
    {
     "name": "stderr",
     "output_type": "stream",
     "text": [
      " 48%|████▊     | 24/50 [08:28<08:41, 20.07s/it]"
     ]
    },
    {
     "name": "stdout",
     "output_type": "stream",
     "text": [
      "Epoch 24 | Eval Loss: 477.5735\n"
     ]
    },
    {
     "name": "stderr",
     "output_type": "stream",
     "text": []
    },
    {
     "name": "stdout",
     "output_type": "stream",
     "text": [
      "Epoch 25 | Train Loss: 162.0722\n"
     ]
    },
    {
     "name": "stderr",
     "output_type": "stream",
     "text": [
      " 50%|█████     | 25/50 [08:49<08:24, 20.16s/it]"
     ]
    },
    {
     "name": "stdout",
     "output_type": "stream",
     "text": [
      "Epoch 25 | Eval Loss: 533.4065\n"
     ]
    },
    {
     "name": "stderr",
     "output_type": "stream",
     "text": []
    },
    {
     "name": "stdout",
     "output_type": "stream",
     "text": [
      "Epoch 26 | Train Loss: 159.0181\n"
     ]
    },
    {
     "name": "stderr",
     "output_type": "stream",
     "text": [
      " 52%|█████▏    | 26/50 [09:09<08:04, 20.20s/it]"
     ]
    },
    {
     "name": "stdout",
     "output_type": "stream",
     "text": [
      "Epoch 26 | Eval Loss: 479.8208\n"
     ]
    },
    {
     "name": "stderr",
     "output_type": "stream",
     "text": []
    },
    {
     "name": "stdout",
     "output_type": "stream",
     "text": [
      "Epoch 27 | Train Loss: 156.1827\n"
     ]
    },
    {
     "name": "stderr",
     "output_type": "stream",
     "text": [
      " 54%|█████▍    | 27/50 [09:30<07:50, 20.46s/it]"
     ]
    },
    {
     "name": "stdout",
     "output_type": "stream",
     "text": [
      "Epoch 27 | Eval Loss: 484.9897\n"
     ]
    },
    {
     "name": "stderr",
     "output_type": "stream",
     "text": []
    },
    {
     "name": "stdout",
     "output_type": "stream",
     "text": [
      "Epoch 28 | Train Loss: 151.1864\n"
     ]
    },
    {
     "name": "stderr",
     "output_type": "stream",
     "text": [
      " 56%|█████▌    | 28/50 [09:50<07:27, 20.34s/it]"
     ]
    },
    {
     "name": "stdout",
     "output_type": "stream",
     "text": [
      "Epoch 28 | Eval Loss: 441.7307\n"
     ]
    },
    {
     "name": "stderr",
     "output_type": "stream",
     "text": []
    },
    {
     "name": "stdout",
     "output_type": "stream",
     "text": [
      "Epoch 29 | Train Loss: 146.6330\n"
     ]
    },
    {
     "name": "stderr",
     "output_type": "stream",
     "text": [
      " 58%|█████▊    | 29/50 [10:10<07:03, 20.16s/it]"
     ]
    },
    {
     "name": "stdout",
     "output_type": "stream",
     "text": [
      "Epoch 29 | Eval Loss: 391.2959\n"
     ]
    },
    {
     "name": "stderr",
     "output_type": "stream",
     "text": []
    },
    {
     "name": "stdout",
     "output_type": "stream",
     "text": [
      "Epoch 30 | Train Loss: 140.6345\n"
     ]
    },
    {
     "name": "stderr",
     "output_type": "stream",
     "text": [
      " 60%|██████    | 30/50 [10:30<06:41, 20.10s/it]"
     ]
    },
    {
     "name": "stdout",
     "output_type": "stream",
     "text": [
      "Epoch 30 | Eval Loss: 473.0352\n"
     ]
    },
    {
     "name": "stderr",
     "output_type": "stream",
     "text": []
    },
    {
     "name": "stdout",
     "output_type": "stream",
     "text": [
      "Epoch 31 | Train Loss: 136.5596\n"
     ]
    },
    {
     "name": "stderr",
     "output_type": "stream",
     "text": [
      " 62%|██████▏   | 31/50 [10:50<06:21, 20.09s/it]"
     ]
    },
    {
     "name": "stdout",
     "output_type": "stream",
     "text": [
      "Epoch 31 | Eval Loss: 430.1897\n"
     ]
    },
    {
     "name": "stderr",
     "output_type": "stream",
     "text": []
    },
    {
     "name": "stdout",
     "output_type": "stream",
     "text": [
      "Epoch 32 | Train Loss: 137.0779\n"
     ]
    },
    {
     "name": "stderr",
     "output_type": "stream",
     "text": [
      " 64%|██████▍   | 32/50 [11:10<06:02, 20.14s/it]"
     ]
    },
    {
     "name": "stdout",
     "output_type": "stream",
     "text": [
      "Epoch 32 | Eval Loss: 439.8934\n"
     ]
    },
    {
     "name": "stderr",
     "output_type": "stream",
     "text": []
    },
    {
     "name": "stdout",
     "output_type": "stream",
     "text": [
      "Epoch 33 | Train Loss: 129.0828\n"
     ]
    },
    {
     "name": "stderr",
     "output_type": "stream",
     "text": [
      " 66%|██████▌   | 33/50 [11:30<05:41, 20.07s/it]"
     ]
    },
    {
     "name": "stdout",
     "output_type": "stream",
     "text": [
      "Epoch 33 | Eval Loss: 391.6692\n"
     ]
    },
    {
     "name": "stderr",
     "output_type": "stream",
     "text": []
    },
    {
     "name": "stdout",
     "output_type": "stream",
     "text": [
      "Epoch 34 | Train Loss: 126.3745\n"
     ]
    },
    {
     "name": "stderr",
     "output_type": "stream",
     "text": [
      " 68%|██████▊   | 34/50 [11:50<05:19, 19.99s/it]"
     ]
    },
    {
     "name": "stdout",
     "output_type": "stream",
     "text": [
      "Epoch 34 | Eval Loss: 399.4046\n"
     ]
    },
    {
     "name": "stderr",
     "output_type": "stream",
     "text": []
    },
    {
     "name": "stdout",
     "output_type": "stream",
     "text": [
      "Epoch 35 | Train Loss: 121.1956\n"
     ]
    },
    {
     "name": "stderr",
     "output_type": "stream",
     "text": [
      " 70%|███████   | 35/50 [12:10<04:58, 19.92s/it]"
     ]
    },
    {
     "name": "stdout",
     "output_type": "stream",
     "text": [
      "Epoch 35 | Eval Loss: 492.1772\n"
     ]
    },
    {
     "name": "stderr",
     "output_type": "stream",
     "text": []
    },
    {
     "name": "stdout",
     "output_type": "stream",
     "text": [
      "Epoch 36 | Train Loss: 119.2560\n"
     ]
    },
    {
     "name": "stderr",
     "output_type": "stream",
     "text": [
      " 72%|███████▏  | 36/50 [12:30<04:38, 19.89s/it]"
     ]
    },
    {
     "name": "stdout",
     "output_type": "stream",
     "text": [
      "Epoch 36 | Eval Loss: 409.8904\n"
     ]
    },
    {
     "name": "stderr",
     "output_type": "stream",
     "text": []
    },
    {
     "name": "stdout",
     "output_type": "stream",
     "text": [
      "Epoch 37 | Train Loss: 118.1876\n"
     ]
    },
    {
     "name": "stderr",
     "output_type": "stream",
     "text": [
      " 74%|███████▍  | 37/50 [12:49<04:18, 19.89s/it]"
     ]
    },
    {
     "name": "stdout",
     "output_type": "stream",
     "text": [
      "Epoch 37 | Eval Loss: 406.7461\n"
     ]
    },
    {
     "name": "stderr",
     "output_type": "stream",
     "text": []
    },
    {
     "name": "stdout",
     "output_type": "stream",
     "text": [
      "Epoch 38 | Train Loss: 115.3988\n"
     ]
    },
    {
     "name": "stderr",
     "output_type": "stream",
     "text": [
      " 76%|███████▌  | 38/50 [13:09<03:58, 19.87s/it]"
     ]
    },
    {
     "name": "stdout",
     "output_type": "stream",
     "text": [
      "Epoch 38 | Eval Loss: 395.4662\n"
     ]
    },
    {
     "name": "stderr",
     "output_type": "stream",
     "text": []
    },
    {
     "name": "stdout",
     "output_type": "stream",
     "text": [
      "Epoch 39 | Train Loss: 114.4127\n"
     ]
    },
    {
     "name": "stderr",
     "output_type": "stream",
     "text": [
      " 78%|███████▊  | 39/50 [13:29<03:38, 19.84s/it]"
     ]
    },
    {
     "name": "stdout",
     "output_type": "stream",
     "text": [
      "Epoch 39 | Eval Loss: 387.0433\n"
     ]
    },
    {
     "name": "stderr",
     "output_type": "stream",
     "text": []
    },
    {
     "name": "stdout",
     "output_type": "stream",
     "text": [
      "Epoch 40 | Train Loss: 114.2466\n"
     ]
    },
    {
     "name": "stderr",
     "output_type": "stream",
     "text": [
      " 80%|████████  | 40/50 [13:49<03:18, 19.80s/it]"
     ]
    },
    {
     "name": "stdout",
     "output_type": "stream",
     "text": [
      "Epoch 40 | Eval Loss: 379.5200\n"
     ]
    },
    {
     "name": "stderr",
     "output_type": "stream",
     "text": []
    },
    {
     "name": "stdout",
     "output_type": "stream",
     "text": [
      "Epoch 41 | Train Loss: 107.5816\n"
     ]
    },
    {
     "name": "stderr",
     "output_type": "stream",
     "text": [
      " 82%|████████▏ | 41/50 [14:08<02:57, 19.76s/it]"
     ]
    },
    {
     "name": "stdout",
     "output_type": "stream",
     "text": [
      "Epoch 41 | Eval Loss: 369.6870\n"
     ]
    },
    {
     "name": "stderr",
     "output_type": "stream",
     "text": []
    },
    {
     "name": "stdout",
     "output_type": "stream",
     "text": [
      "Epoch 42 | Train Loss: 106.6033\n"
     ]
    },
    {
     "name": "stderr",
     "output_type": "stream",
     "text": [
      " 84%|████████▍ | 42/50 [14:29<02:38, 19.87s/it]"
     ]
    },
    {
     "name": "stdout",
     "output_type": "stream",
     "text": [
      "Epoch 42 | Eval Loss: 301.8683\n"
     ]
    },
    {
     "name": "stderr",
     "output_type": "stream",
     "text": []
    },
    {
     "name": "stdout",
     "output_type": "stream",
     "text": [
      "Epoch 43 | Train Loss: 107.2683\n"
     ]
    },
    {
     "name": "stderr",
     "output_type": "stream",
     "text": [
      " 86%|████████▌ | 43/50 [14:48<02:19, 19.86s/it]"
     ]
    },
    {
     "name": "stdout",
     "output_type": "stream",
     "text": [
      "Epoch 43 | Eval Loss: 377.6265\n"
     ]
    },
    {
     "name": "stderr",
     "output_type": "stream",
     "text": []
    },
    {
     "name": "stdout",
     "output_type": "stream",
     "text": [
      "Epoch 44 | Train Loss: 108.0409\n"
     ]
    },
    {
     "name": "stderr",
     "output_type": "stream",
     "text": [
      " 88%|████████▊ | 44/50 [15:08<01:58, 19.82s/it]"
     ]
    },
    {
     "name": "stdout",
     "output_type": "stream",
     "text": [
      "Epoch 44 | Eval Loss: 338.7081\n"
     ]
    },
    {
     "name": "stderr",
     "output_type": "stream",
     "text": []
    },
    {
     "name": "stdout",
     "output_type": "stream",
     "text": [
      "Epoch 45 | Train Loss: 100.8363\n"
     ]
    },
    {
     "name": "stderr",
     "output_type": "stream",
     "text": [
      " 90%|█████████ | 45/50 [15:28<01:39, 19.83s/it]"
     ]
    },
    {
     "name": "stdout",
     "output_type": "stream",
     "text": [
      "Epoch 45 | Eval Loss: 409.1966\n"
     ]
    },
    {
     "name": "stderr",
     "output_type": "stream",
     "text": []
    },
    {
     "name": "stdout",
     "output_type": "stream",
     "text": [
      "Epoch 46 | Train Loss: 102.3054\n"
     ]
    },
    {
     "name": "stderr",
     "output_type": "stream",
     "text": [
      " 92%|█████████▏| 46/50 [15:48<01:19, 19.82s/it]"
     ]
    },
    {
     "name": "stdout",
     "output_type": "stream",
     "text": [
      "Epoch 46 | Eval Loss: 364.9675\n"
     ]
    },
    {
     "name": "stderr",
     "output_type": "stream",
     "text": []
    },
    {
     "name": "stdout",
     "output_type": "stream",
     "text": [
      "Epoch 47 | Train Loss: 97.8673\n"
     ]
    },
    {
     "name": "stderr",
     "output_type": "stream",
     "text": [
      " 94%|█████████▍| 47/50 [16:08<00:59, 19.94s/it]"
     ]
    },
    {
     "name": "stdout",
     "output_type": "stream",
     "text": [
      "Epoch 47 | Eval Loss: 349.3581\n"
     ]
    },
    {
     "name": "stderr",
     "output_type": "stream",
     "text": []
    },
    {
     "name": "stdout",
     "output_type": "stream",
     "text": [
      "Epoch 48 | Train Loss: 100.6491\n"
     ]
    },
    {
     "name": "stderr",
     "output_type": "stream",
     "text": [
      " 96%|█████████▌| 48/50 [16:28<00:39, 19.88s/it]"
     ]
    },
    {
     "name": "stdout",
     "output_type": "stream",
     "text": [
      "Epoch 48 | Eval Loss: 343.5634\n"
     ]
    },
    {
     "name": "stderr",
     "output_type": "stream",
     "text": []
    },
    {
     "name": "stdout",
     "output_type": "stream",
     "text": [
      "Epoch 49 | Train Loss: 97.0342\n"
     ]
    },
    {
     "name": "stderr",
     "output_type": "stream",
     "text": [
      " 98%|█████████▊| 49/50 [16:47<00:19, 19.85s/it]"
     ]
    },
    {
     "name": "stdout",
     "output_type": "stream",
     "text": [
      "Epoch 49 | Eval Loss: 292.6803\n"
     ]
    },
    {
     "name": "stderr",
     "output_type": "stream",
     "text": []
    },
    {
     "name": "stdout",
     "output_type": "stream",
     "text": [
      "Epoch 50 | Train Loss: 96.2836\n"
     ]
    },
    {
     "name": "stderr",
     "output_type": "stream",
     "text": [
      "                                               "
     ]
    },
    {
     "name": "stdout",
     "output_type": "stream",
     "text": [
      "Epoch 50 | Eval Loss: 322.8119\n"
     ]
    },
    {
     "name": "stderr",
     "output_type": "stream",
     "text": [
      "\r"
     ]
    }
   ],
   "source": [
    "#training\n",
    "\n",
    "model.train()\n",
    "\n",
    "train_loss_list = []\n",
    "eval_loss_list = []\n",
    "\n",
    "for epoch in tqdm(range(num_epochs), leave=False, position=0):\n",
    "    \n",
    "    epoch_loss = 0\n",
    "        \n",
    "    for data in tqdm(train_data, leave=False, position=1):\n",
    "        \n",
    "        input_data = torch.tensor(data[0]).to(torch.float).to(device)\n",
    "        edge_index = torch.tensor(data[1]).to(device).permute(1,0)\n",
    "            \n",
    "        # Forward pass\n",
    "        out = model(input_data, edge_index)\n",
    "        #print(decoder_outputs.size())\n",
    "            \n",
    "        \n",
    "\n",
    "        # TODO: Compute loss\n",
    "        loss = criterion(out, input_data)\n",
    "        epoch_loss += loss.item()\n",
    "            \n",
    "            \n",
    "        loss.backward()\n",
    "        optimizer.step()\n",
    "        optimizer.zero_grad()\n",
    "        \n",
    "    \n",
    "        \n",
    "\n",
    "    print(f'Epoch {epoch + 1} | Train Loss: {(epoch_loss / len(train_data)):.4f}')\n",
    "    train_loss_list.append(epoch_loss / len(train_data))\n",
    "    #eval\n",
    "    eval_loss = 0\n",
    "    for data in  test_data:\n",
    "        input_data = torch.tensor(data[0]).to(device)\n",
    "        edge_index = torch.tensor(data[1]).to(device).permute(1,0)\n",
    "            \n",
    "        # Forward pass\n",
    "        out = model(input_data, edge_index)\n",
    "        #print(decoder_outputs.size())\n",
    "            \n",
    "        \n",
    "\n",
    "        # TODO: Compute loss\n",
    "        loss = criterion(out, input_data)\n",
    "        eval_loss += loss.item()\n",
    "    print(f'Epoch {epoch + 1} | Eval Loss: {(eval_loss / len(test_data)):.4f}')\n",
    "    eval_loss_list.append(eval_loss / len(test_data))\n",
    "        \n",
    "        "
   ]
  },
  {
   "cell_type": "code",
   "execution_count": 14,
   "metadata": {},
   "outputs": [
    {
     "data": {
      "image/png": "[encoded data removed]",
      "text/plain": [
       "<Figure size 640x480 with 1 Axes>"
      ]
     },
     "metadata": {},
     "output_type": "display_data"
    }
   ],
   "source": [
    "from matplotlib.pylab import plt\n",
    "\n",
    "epochs = range(11, 51)\n",
    "\n",
    "plt.plot(epochs, train_loss_list[10:], label='Training Loss')\n",
    "plt.plot(epochs, eval_loss_list[10:], label='Validation Loss')\n",
    "\n",
    "plt.title('Training and Validation Loss')\n",
    "plt.xlabel('Epochs')\n",
    "plt.ylabel('Loss')\n",
    "plt.show()"
   ]
  },
  {
   "cell_type": "code",
   "execution_count": 15,
   "metadata": {},
   "outputs": [],
   "source": [
    "def save_res(file_name, out):\n",
    "    doc = minidom.parse(file_name)\n",
    "    for i in out:\n",
    "        tmp = []\n",
    "        tmp.append('M')\n",
    "        i = i.tolist()\n",
    "        tmp.append(str(i[0]))\n",
    "        tmp.append(str(i[1]))\n",
    "        tmp.append(\"Q\")\n",
    "        tmp.append(str(i[4]))\n",
    "        tmp.append(str(i[5]))\n",
    "        tmp.append(str(i[2]))\n",
    "        tmp.append(str(i[3]))\n",
    "        x = doc.createElement(\"path\")\n",
    "        x.setAttribute(\"d\" , \" \".join(tmp))\n",
    "        x.setAttribute(\"stroke\" , \"red\")\n",
    "        x.setAttribute(\"fill\" , \"none\")\n",
    "        doc.childNodes[0].appendChild(x)\n",
    "    \n",
    "    doc.writexml(open(file_name[:-4] + \"_res.svg\", 'w'))\n",
    "    "
   ]
  },
  {
   "cell_type": "code",
   "execution_count": 19,
   "metadata": {},
   "outputs": [],
   "source": [
    "names = onlyfiles_pants[:100] + onlyfiles_skirt[:100]\n",
    "\n",
    "for name in names:\n",
    "    a = get_data_from_spec(name)\n",
    "    data = torch.tensor(a[0]).to(device)\n",
    "    edge_index = torch.tensor(a[1]).to(device).permute(1,0)\n",
    "    \n",
    "    out = model(data, edge_index)\n",
    "\n",
    "    save_res(name,out)"
   ]
  },
  {
   "cell_type": "code",
   "execution_count": 52,
   "metadata": {},
   "outputs": [
    {
     "name": "stdout",
     "output_type": "stream",
     "text": [
      "[59.52334213256836, 346.2449035644531, 158.48031616210938, 345.9590759277344, 111.01795196533203, 345.2615661621094]\n",
      "[168.86642456054688, 355.6022033691406, 167.94105529785156, 53.63191223144531, 197.25413513183594, 83.80696105957031]\n",
      "[160.8979949951172, 60.74776077270508, 87.47350311279297, 65.3702163696289, 126.03679656982422, 63.35658645629883]\n",
      "[82.98078155517578, 62.74359893798828, 57.366886138916016, 156.6012725830078, 98.33832550048828, 142.36863708496094]\n",
      "[62.356666564941406, 146.03050231933594, 62.18388748168945, 343.443359375, 83.97171783447266, 159.24220275878906]\n",
      "[230.0357208251953, 355.7780456542969, 303.3335876464844, 354.97943115234375, 264.552734375, 353.0500183105469]\n",
      "[290.0574645996094, 357.5351257324219, 290.7722473144531, 152.25856018066406, 277.0556640625, 165.2147979736328]\n",
      "[299.2213439941406, 155.0422821044922, 272.01495361328125, 61.996864318847656, 259.470458984375, 142.06373596191406]\n",
      "[271.3050537109375, 64.16558074951172, 234.40054321289062, 53.80352020263672, 248.9150390625, 61.483070373535156]\n",
      "[227.8248748779297, 59.151954650878906, 224.7376708984375, 355.46112060546875, 197.9177703857422, 90.53089141845703]\n",
      "[371.5755310058594, 346.7974548339844, 473.31768798828125, 351.883056640625, 423.1587219238281, 351.44921875]\n",
      "[466.52154541015625, 357.9866027832031, 464.94451904296875, 159.40255737304688, 449.8860778808594, 166.12509155273438]\n",
      "[469.8443908691406, 147.6742706298828, 444.09075927734375, 57.640785217285156, 427.94451904296875, 138.66493225097656]\n",
      "[442.6872253417969, 57.96511459350586, 369.347412109375, 55.07966995239258, 404.86328125, 58.46818161010742]\n",
      "[364.8250427246094, 56.755470275878906, 369.14288330078125, 359.42449951171875, 333.68768310546875, 89.0567626953125]\n",
      "[536.4493408203125, 351.8777770996094, 616.9149780273438, 352.18914794921875, 571.87451171875, 357.0093688964844]\n",
      "[600.9627075195312, 351.0122985839844, 606.1494140625, 60.13714599609375, 633.8704223632812, 89.67596435546875]\n",
      "[613.6414184570312, 59.42912292480469, 572.400146484375, 65.59089660644531, 593.2726440429688, 59.50714874267578]\n",
      "[572.7175903320312, 52.39110565185547, 543.7257080078125, 150.2845458984375, 580.6548461914062, 137.30555725097656]\n",
      "[534.6727294921875, 151.40440368652344, 537.19384765625, 350.16455078125, 553.7194213867188, 162.9287872314453]\n"
     ]
    }
   ],
   "source": [
    "for i in out:\n",
    "    print(i.tolist())"
   ]
  },
  {
   "cell_type": "code",
   "execution_count": 91,
   "metadata": {},
   "outputs": [
    {
     "name": "stdout",
     "output_type": "stream",
     "text": [
      "pants_straight_sides_1000\\pants_straight_sides_02LK7BEVSJ\\pants_straight_sides_02LK7BEVSJ_pattern_res.svg\n"
     ]
    }
   ],
   "source": [
    "print(onlyfiles[0][:-4] + \"_res.svg\")"
   ]
  },
  {
   "cell_type": "code",
   "execution_count": null,
   "metadata": {},
   "outputs": [],
   "source": [
    "def save_res(file_name, out):\n",
    "    doc = minidom.parse(file_name)\n",
    "    for i in out:\n",
    "        tmp = []\n",
    "        tmp.append('M')\n",
    "        i = i.tolist()\n",
    "        tmp.append(str(i[0]))\n",
    "        tmp.append(str(i[1]))\n",
    "        tmp.append(\"Q\")\n",
    "        tmp.append(str(i[4]))\n",
    "        tmp.append(str(i[5]))\n",
    "        tmp.append(str(i[2]))\n",
    "        tmp.append(str(i[3]))\n",
    "        x = doc.createElement(\"path\")\n",
    "        x.setAttribute(\"d\" , \" \".join(tmp))\n",
    "        x.setAttribute(\"stroke\" , \"red\")\n",
    "        x.setAttribute(\"fill\" , \"none\")\n",
    "        doc.childNodes[0].appendChild(x)\n",
    "    \n",
    "    doc.writexml(open(file_name[:-4] + \"_res.svg\", 'w'))\n",
    "    "
   ]
  },
  {
   "cell_type": "code",
   "execution_count": 85,
   "metadata": {},
   "outputs": [
    {
     "name": "stdout",
     "output_type": "stream",
     "text": [
      "<?xml version=\"1.0\" ?>\n",
      "<svg xmlns=\"http://www.w3.org/2000/svg\" xmlns:ev=\"http://www.w3.org/2001/xml-events\" xmlns:xlink=\"http://www.w3.org/1999/xlink\" baseProfile=\"tiny\" height=\"417px\" version=\"1.2\" width=\"660px\">\n",
      "\t\n",
      "  \n",
      "\t<defs/>\n",
      "\t\n",
      "  \n",
      "\t<path d=\"M 60 357 L 165 357 Q 194.7 89.69999999999999 165 60 L 90 60 Q 105.9 144.0 60 156 Q 80.1 166.05 60 357 z\" fill=\"rgb(255,217,194)\" stroke=\"black\"/>\n",
      "\t\n",
      "  \n",
      "\t<text fill=\"rgb(9,33,173)\" font-size=\"25\" x=\"83.0\" y=\"201.0\">Rback</text>\n",
      "\t\n",
      "  \n",
      "\t<path d=\"M 225 357 L 300 357 Q 279.9 166.05 300 156 Q 258.9 142.5 270 60 L 225 60 Q 195.3 89.7 225 357 z\" fill=\"rgb(255,217,194)\" stroke=\"black\"/>\n",
      "\t\n",
      "  \n",
      "\t<text fill=\"rgb(9,33,173)\" font-size=\"25\" x=\"239.0\" y=\"201.0\">Rfront</text>\n",
      "\t\n",
      "  \n",
      "\t<path d=\"M 360 357 L 465 357 Q 444.9 166.05 465 156 Q 419.1 144.0 435 60 L 360 60 Q 330.3 89.7 360 357 z\" fill=\"rgb(255,217,194)\" stroke=\"black\"/>\n",
      "\t\n",
      "  \n",
      "\t<text fill=\"rgb(9,33,173)\" font-size=\"25\" x=\"392.0\" y=\"201.0\">Lback</text>\n",
      "\t\n",
      "  \n",
      "\t<path d=\"M 525 357 L 600 357 Q 629.7 89.69999999999999 600 60 L 555 60 Q 566.1 142.5 525 156 Q 545.1 166.05 525 357 z\" fill=\"rgb(255,217,194)\" stroke=\"black\"/>\n",
      "\t\n",
      "  \n",
      "\t<text fill=\"rgb(9,33,173)\" font-size=\"25\" x=\"536.0\" y=\"201.0\">Lfront</text>\n",
      "\t\n",
      "\n",
      "</svg>\n",
      "\n",
      "<?xml version=\"1.0\" ?>\n",
      "<svg xmlns=\"http://www.w3.org/2000/svg\" xmlns:ev=\"http://www.w3.org/2001/xml-events\" xmlns:xlink=\"http://www.w3.org/1999/xlink\" baseProfile=\"tiny\" height=\"417px\" version=\"1.2\" width=\"660px\">\n",
      "\t\n",
      "  \n",
      "\t<defs/>\n",
      "\t\n",
      "  \n",
      "\t<path d=\"M 60 357 L 165 357 Q 194.7 89.69999999999999 165 60 L 90 60 Q 105.9 144.0 60 156 Q 80.1 166.05 60 357 z\" fill=\"rgb(255,217,194)\" stroke=\"black\"/>\n",
      "\t\n",
      "  \n",
      "\t<text fill=\"rgb(9,33,173)\" font-size=\"25\" x=\"83.0\" y=\"201.0\">Rback</text>\n",
      "\t\n",
      "  \n",
      "\t<path d=\"M 225 357 L 300 357 Q 279.9 166.05 300 156 Q 258.9 142.5 270 60 L 225 60 Q 195.3 89.7 225 357 z\" fill=\"rgb(255,217,194)\" stroke=\"black\"/>\n",
      "\t\n",
      "  \n",
      "\t<text fill=\"rgb(9,33,173)\" font-size=\"25\" x=\"239.0\" y=\"201.0\">Rfront</text>\n",
      "\t\n",
      "  \n",
      "\t<path d=\"M 360 357 L 465 357 Q 444.9 166.05 465 156 Q 419.1 144.0 435 60 L 360 60 Q 330.3 89.7 360 357 z\" fill=\"rgb(255,217,194)\" stroke=\"black\"/>\n",
      "\t\n",
      "  \n",
      "\t<text fill=\"rgb(9,33,173)\" font-size=\"25\" x=\"392.0\" y=\"201.0\">Lback</text>\n",
      "\t\n",
      "  \n",
      "\t<path d=\"M 525 357 L 600 357 Q 629.7 89.69999999999999 600 60 L 555 60 Q 566.1 142.5 525 156 Q 545.1 166.05 525 357 z\" fill=\"rgb(255,217,194)\" stroke=\"black\"/>\n",
      "\t\n",
      "  \n",
      "\t<text fill=\"rgb(9,33,173)\" font-size=\"25\" x=\"536.0\" y=\"201.0\">Lfront</text>\n",
      "\t\n",
      "\n",
      "\t<path d=\"M 59.52334213256836 346.2449035644531 Q 111.01795196533203 345.2615661621094 158.48031616210938 345.9590759277344\" stroke=\"red\" fill=\"none\"/>\n",
      "\t<path d=\"M 168.86642456054688 355.6022033691406 Q 197.25413513183594 83.80696105957031 167.94105529785156 53.63191223144531\" stroke=\"red\" fill=\"none\"/>\n",
      "\t<path d=\"M 160.8979949951172 60.74776077270508 Q 126.03679656982422 63.35658645629883 87.47350311279297 65.3702163696289\" stroke=\"red\" fill=\"none\"/>\n",
      "\t<path d=\"M 82.98078155517578 62.74359893798828 Q 98.33832550048828 142.36863708496094 57.366886138916016 156.6012725830078\" stroke=\"red\" fill=\"none\"/>\n",
      "\t<path d=\"M 62.356666564941406 146.03050231933594 Q 83.97171783447266 159.24220275878906 62.18388748168945 343.443359375\" stroke=\"red\" fill=\"none\"/>\n",
      "\t<path d=\"M 230.0357208251953 355.7780456542969 Q 264.552734375 353.0500183105469 303.3335876464844 354.97943115234375\" stroke=\"red\" fill=\"none\"/>\n",
      "\t<path d=\"M 290.0574645996094 357.5351257324219 Q 277.0556640625 165.2147979736328 290.7722473144531 152.25856018066406\" stroke=\"red\" fill=\"none\"/>\n",
      "\t<path d=\"M 299.2213439941406 155.0422821044922 Q 259.470458984375 142.06373596191406 272.01495361328125 61.996864318847656\" stroke=\"red\" fill=\"none\"/>\n",
      "\t<path d=\"M 271.3050537109375 64.16558074951172 Q 248.9150390625 61.483070373535156 234.40054321289062 53.80352020263672\" stroke=\"red\" fill=\"none\"/>\n",
      "\t<path d=\"M 227.8248748779297 59.151954650878906 Q 197.9177703857422 90.53089141845703 224.7376708984375 355.46112060546875\" stroke=\"red\" fill=\"none\"/>\n",
      "\t<path d=\"M 371.5755310058594 346.7974548339844 Q 423.1587219238281 351.44921875 473.31768798828125 351.883056640625\" stroke=\"red\" fill=\"none\"/>\n",
      "\t<path d=\"M 466.52154541015625 357.9866027832031 Q 449.8860778808594 166.12509155273438 464.94451904296875 159.40255737304688\" stroke=\"red\" fill=\"none\"/>\n",
      "\t<path d=\"M 469.8443908691406 147.6742706298828 Q 427.94451904296875 138.66493225097656 444.09075927734375 57.640785217285156\" stroke=\"red\" fill=\"none\"/>\n",
      "\t<path d=\"M 442.6872253417969 57.96511459350586 Q 404.86328125 58.46818161010742 369.347412109375 55.07966995239258\" stroke=\"red\" fill=\"none\"/>\n",
      "\t<path d=\"M 364.8250427246094 56.755470275878906 Q 333.68768310546875 89.0567626953125 369.14288330078125 359.42449951171875\" stroke=\"red\" fill=\"none\"/>\n",
      "\t<path d=\"M 536.4493408203125 351.8777770996094 Q 571.87451171875 357.0093688964844 616.9149780273438 352.18914794921875\" stroke=\"red\" fill=\"none\"/>\n",
      "\t<path d=\"M 600.9627075195312 351.0122985839844 Q 633.8704223632812 89.67596435546875 606.1494140625 60.13714599609375\" stroke=\"red\" fill=\"none\"/>\n",
      "\t<path d=\"M 613.6414184570312 59.42912292480469 Q 593.2726440429688 59.50714874267578 572.400146484375 65.59089660644531\" stroke=\"red\" fill=\"none\"/>\n",
      "\t<path d=\"M 572.7175903320312 52.39110565185547 Q 580.6548461914062 137.30555725097656 543.7257080078125 150.2845458984375\" stroke=\"red\" fill=\"none\"/>\n",
      "\t<path d=\"M 534.6727294921875 151.40440368652344 Q 553.7194213867188 162.9287872314453 537.19384765625 350.16455078125\" stroke=\"red\" fill=\"none\"/>\n",
      "</svg>\n",
      "\n"
     ]
    }
   ],
   "source": [
    "doc = minidom.parse(onlyfiles[0])\n",
    "print(doc.toprettyxml())\n",
    "for i in out:\n",
    "    tmp = []\n",
    "    tmp.append('M')\n",
    "    i = i.tolist()\n",
    "    tmp.append(str(i[0]))\n",
    "    tmp.append(str(i[1]))\n",
    "    tmp.append(\"Q\")\n",
    "    tmp.append(str(i[4]))\n",
    "    tmp.append(str(i[5]))\n",
    "    tmp.append(str(i[2]))\n",
    "    tmp.append(str(i[3]))\n",
    "    x = doc.createElement(\"path\")\n",
    "    x.setAttribute(\"d\" , \" \".join(tmp))\n",
    "    x.setAttribute(\"stroke\" , \"red\")\n",
    "    x.setAttribute(\"fill\" , \"none\")\n",
    "    doc.childNodes[0].appendChild(x)\n",
    "print(doc.toprettyxml())\n",
    "\n",
    "    "
   ]
  },
  {
   "cell_type": "code",
   "execution_count": 86,
   "metadata": {},
   "outputs": [],
   "source": [
    "doc.writexml(open(\"tmp.svg\", 'w'))"
   ]
  },
  {
   "cell_type": "code",
   "execution_count": 65,
   "metadata": {},
   "outputs": [
    {
     "name": "stdout",
     "output_type": "stream",
     "text": [
      "<?xml version=\"1.0\" ?>\n",
      "<svg xmlns=\"http://www.w3.org/2000/svg\" xmlns:ev=\"http://www.w3.org/2001/xml-events\" xmlns:xlink=\"http://www.w3.org/1999/xlink\" baseProfile=\"tiny\" height=\"417px\" version=\"1.2\" width=\"660px\">\n",
      "\t\n",
      "  \n",
      "\t<defs/>\n",
      "\t\n",
      "  \n",
      "\t<path d=\"M 60 357 L 165 357 Q 194.7 89.69999999999999 165 60 L 90 60 Q 105.9 144.0 60 156 Q 80.1 166.05 60 357 z\" fill=\"rgb(255,217,194)\" stroke=\"black\"/>\n",
      "\t\n",
      "  \n",
      "\t<text fill=\"rgb(9,33,173)\" font-size=\"25\" x=\"83.0\" y=\"201.0\">Rback</text>\n",
      "\t\n",
      "  \n",
      "\t<path d=\"M 225 357 L 300 357 Q 279.9 166.05 300 156 Q 258.9 142.5 270 60 L 225 60 Q 195.3 89.7 225 357 z\" fill=\"rgb(255,217,194)\" stroke=\"black\"/>\n",
      "\t\n",
      "  \n",
      "\t<text fill=\"rgb(9,33,173)\" font-size=\"25\" x=\"239.0\" y=\"201.0\">Rfront</text>\n",
      "\t\n",
      "  \n",
      "\t<path d=\"M 360 357 L 465 357 Q 444.9 166.05 465 156 Q 419.1 144.0 435 60 L 360 60 Q 330.3 89.7 360 357 z\" fill=\"rgb(255,217,194)\" stroke=\"black\"/>\n",
      "\t\n",
      "  \n",
      "\t<text fill=\"rgb(9,33,173)\" font-size=\"25\" x=\"392.0\" y=\"201.0\">Lback</text>\n",
      "\t\n",
      "  \n",
      "\t<path d=\"M 525 357 L 600 357 Q 629.7 89.69999999999999 600 60 L 555 60 Q 566.1 142.5 525 156 Q 545.1 166.05 525 357 z\" fill=\"rgb(255,217,194)\" stroke=\"black\"/>\n",
      "\t\n",
      "  \n",
      "\t<text fill=\"rgb(9,33,173)\" font-size=\"25\" x=\"536.0\" y=\"201.0\">Lfront</text>\n",
      "\t\n",
      "\n",
      "\t<path d=\"abc\"/>\n",
      "</svg>\n",
      "\n"
     ]
    }
   ],
   "source": [
    "x = doc.createElement(\"path\")\n",
    "x.setAttribute(\"d\" , \"abc\")\n",
    "doc.childNodes[0].appendChild(x)\n",
    "print(doc.toprettyxml())"
   ]
  },
  {
   "cell_type": "code",
   "execution_count": null,
   "metadata": {},
   "outputs": [],
   "source": []
  }
 ],
 "metadata": {
  "kernelspec": {
   "display_name": "sp",
   "language": "python",
   "name": "python3"
  },
  "language_info": {
   "codemirror_mode": {
    "name": "ipython",
    "version": 3
   },
   "file_extension": ".py",
   "mimetype": "text/x-python",
   "name": "python",
   "nbconvert_exporter": "python",
   "pygments_lexer": "ipython3",
   "version": "3.10.13"
  }
 },
 "nbformat": 4,
 "nbformat_minor": 2
}
