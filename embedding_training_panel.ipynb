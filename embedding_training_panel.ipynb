{
 "cells": [
  {
   "cell_type": "code",
   "execution_count": 1,
   "metadata": {},
   "outputs": [],
   "source": [
    "import math\n",
    "import numpy as np\n",
    "import matplotlib.pyplot as plt\n",
    "import torch\n",
    "import torch.optim as optim\n",
    "import torch.nn as nn\n",
    "import evaluate\n",
    "import gensim\n",
    "import transformers\n",
    "import nltk\n",
    "import torch_geometric\n",
    "import json\n",
    "from xml.dom import minidom\n",
    "from tqdm import tqdm\n",
    "\n",
    "from modeling import testModel\n",
    "\n",
    "device = torch.device(\"cuda:0\" if torch.cuda.is_available() else \"cpu\")"
   ]
  },
  {
   "cell_type": "code",
   "execution_count": 2,
   "metadata": {},
   "outputs": [],
   "source": [
    "# This cell makes sure modules are auto-loaded when you change external python files\n",
    "%load_ext autoreload\n",
    "%autoreload 2"
   ]
  },
  {
   "cell_type": "code",
   "execution_count": 3,
   "metadata": {},
   "outputs": [],
   "source": [
    "def read_svg_string(svg_strings):\n",
    "    res = []\n",
    "\n",
    "    panel_list = []\n",
    "\n",
    "    for i in svg_strings:\n",
    "        edge_list = []\n",
    "        edge_index = []\n",
    "        ps = 0\n",
    "        pe = 0\n",
    "        tmp = i.split()\n",
    "        prev_x = float(tmp[1])\n",
    "        prev_y = float(tmp[2])\n",
    "        j = 3\n",
    "        while j < len(tmp):\n",
    "            edge = [prev_x, prev_y]\n",
    "            if tmp[j] == 'z':\n",
    "                break\n",
    "\n",
    "            if tmp[j] == 'L':\n",
    "                edge.append(float(tmp[j+1]))\n",
    "                edge.append(float(tmp[j+2]))\n",
    "                prev_x = float(tmp[j+1])\n",
    "                prev_y = float(tmp[j+2])\n",
    "                edge.append((edge[0] + edge[2]) / 2)\n",
    "                edge.append((edge[1] + edge[3]) / 2)\n",
    "                j = j + 3\n",
    "                pe += 1\n",
    "                edge_list.append(edge)\n",
    "                continue\n",
    "            if tmp[j] == 'Q':\n",
    "                prev_x = float(tmp[j+3])\n",
    "                prev_y = float(tmp[j+4])\n",
    "                edge.append(float(tmp[j+3]))\n",
    "                edge.append(float(tmp[j+4]))\n",
    "                edge.append(float(tmp[j+1]))\n",
    "                edge.append(float(tmp[j+2]))\n",
    "                j = j + 5\n",
    "                pe += 1\n",
    "                edge_list.append(edge)\n",
    "                continue\n",
    "        for j in range(ps, pe - 1):\n",
    "            edge_index.append([j, j + 1])\n",
    "        edge_index.append([pe - 1, ps])\n",
    "        edge_list = [convert_to_4(i) for i in edge_list]\n",
    "        res.append([edge_list, edge_index])\n",
    "\n",
    "    \n",
    "    return res\n",
    "            \n"
   ]
  },
  {
   "cell_type": "code",
   "execution_count": 4,
   "metadata": {},
   "outputs": [],
   "source": [
    "def convert_to_4(data):\n",
    "    start_p = np.array([data[0], data[1]])\n",
    "    end_p = np.array([data[2], data[3]])\n",
    "    center_p = np.array([data[4], data[5]])\n",
    "\n",
    "    line = end_p - start_p\n",
    "    p_line = np.empty_like(line)\n",
    "    p_line[0] = - line[1]\n",
    "    p_line[1] = line[0]\n",
    "\n",
    "    v = center_p - start_p\n",
    "    cx = np.dot(line, v) / np.linalg.norm(line)\n",
    "    cy = np.dot(p_line, v) / np.linalg.norm(p_line)\n",
    "\n",
    "    return [line[0], line[1], cx, cy]"
   ]
  },
  {
   "cell_type": "code",
   "execution_count": 5,
   "metadata": {},
   "outputs": [],
   "source": [
    "def get_data_from_spec(file_path):\n",
    "    doc = minidom.parse(file_path)  # parseString also exists\n",
    "    path_strings = [path.getAttribute('d') for path\n",
    "                in doc.getElementsByTagName('path')]\n",
    "    res = read_svg_string(path_strings)\n",
    "    return res"
   ]
  },
  {
   "cell_type": "code",
   "execution_count": 6,
   "metadata": {},
   "outputs": [],
   "source": [
    "def backto6(file_name, out, panel_list):\n",
    "    doc = minidom.parse(file_name)  # parseString also exists\n",
    "    path_strings = [path.getAttribute('d') for path\n",
    "                in doc.getElementsByTagName('path')]\n",
    "    index = 0\n",
    "\n",
    "    res = []\n",
    "    \n",
    "    for i, path in enumerate(path_strings):\n",
    "        path = path.split()\n",
    "        prev_x = float(path[1])\n",
    "        prev_y = float(path[2])\n",
    "\n",
    "        count = 1\n",
    "        while count <= panel_list[i]:\n",
    "            count += 1\n",
    "            cur_x = prev_x + out[index][0]\n",
    "            cur_y = prev_y + out[index][1]\n",
    "            start_p = np.array([prev_x, prev_y])\n",
    "            end_p = np.array([cur_x, cur_y])\n",
    "\n",
    "            line = end_p - start_p\n",
    "            \n",
    "            p_line = np.empty_like(line)\n",
    "            p_line[0] = - line[1]\n",
    "            p_line[1] = line[0]\n",
    "\n",
    "            center_p = start_p + line * out[index][2] / np.linalg.norm(line) + p_line * out[index][3] / np.linalg.norm(p_line)\n",
    "            index += 1\n",
    "            res.append([prev_x,prev_y, cur_x, cur_y, center_p[0], center_p[1]])\n",
    "            prev_x = cur_x\n",
    "            prev_y = cur_y\n",
    "    return res"
   ]
  },
  {
   "cell_type": "code",
   "execution_count": 7,
   "metadata": {},
   "outputs": [],
   "source": [
    "from os import listdir\n",
    "from os.path import isfile, join\n",
    "import random\n",
    "\n",
    "mypath = \"pants_straight_sides_1000\"\n",
    "\n",
    "onlyfiles_pants = [join(mypath,f, f + \"_pattern.svg\") for f in listdir(mypath) if not isfile(join(mypath, f))]\n",
    "random.shuffle(onlyfiles_pants)\n",
    "\n",
    "file_names_pants = [f for f in listdir(mypath) if not isfile(join(mypath, f))]\n",
    "\n",
    "mypath = \"skirt_2_panels_1200\"\n",
    "\n",
    "onlyfiles_skirt = [join(mypath,f, f + \"_pattern.svg\") for f in listdir(mypath) if not isfile(join(mypath, f))]\n",
    "random.shuffle(onlyfiles_skirt)\n",
    "\n",
    "file_names_skirt = [f for f in listdir(mypath) if not isfile(join(mypath, f))]"
   ]
  },
  {
   "cell_type": "code",
   "execution_count": 8,
   "metadata": {},
   "outputs": [],
   "source": [
    "data_pants = [get_data_from_spec(i) for i in onlyfiles_pants]\n",
    "data_skirt = [get_data_from_spec(i) for i in onlyfiles_skirt]\n",
    "\n",
    "train_data_pants = data_pants[100:]\n",
    "test_data_pants = data_pants[:100]\n",
    "\n",
    "train_data_skirt = data_skirt[100:]\n",
    "test_data_skirt = data_skirt[:100]\n",
    "\n",
    "train_data = train_data_pants + train_data_skirt\n",
    "test_data = test_data_pants + test_data_skirt"
   ]
  },
  {
   "cell_type": "code",
   "execution_count": 15,
   "metadata": {},
   "outputs": [],
   "source": [
    "# -321 -- +408"
   ]
  },
  {
   "cell_type": "code",
   "execution_count": 16,
   "metadata": {},
   "outputs": [],
   "source": [
    "lr = 1e-4\n",
    "num_epochs = 50\n",
    "n_classes= 147\n",
    "\n",
    "model = testModel(4, 4 * n_classes).to(device)\n",
    "\n",
    "criterion = nn.CrossEntropyLoss()\n",
    "optimizer = optim.Adam(model.parameters(), lr=lr)\n",
    "scheduler = optim.lr_scheduler.MultiStepLR(optimizer, [25], gamma=0.1)"
   ]
  },
  {
   "cell_type": "code",
   "execution_count": 14,
   "metadata": {},
   "outputs": [
    {
     "name": "stderr",
     "output_type": "stream",
     "text": [
      "  0%|          | 0/50 [00:00<?, ?it/s]"
     ]
    },
    {
     "name": "stdout",
     "output_type": "stream",
     "text": [
      "Epoch 1 | Train Loss: 3.4445\n"
     ]
    },
    {
     "name": "stderr",
     "output_type": "stream",
     "text": [
      "  2%|▏         | 1/50 [01:28<1:12:12, 88.41s/it]"
     ]
    },
    {
     "name": "stdout",
     "output_type": "stream",
     "text": [
      "Epoch 1 | Eval Loss: 3.4666\n"
     ]
    },
    {
     "name": "stderr",
     "output_type": "stream",
     "text": []
    },
    {
     "name": "stdout",
     "output_type": "stream",
     "text": [
      "Epoch 2 | Train Loss: 2.7024\n"
     ]
    },
    {
     "name": "stderr",
     "output_type": "stream",
     "text": [
      "  4%|▍         | 2/50 [02:55<1:09:52, 87.35s/it]"
     ]
    },
    {
     "name": "stdout",
     "output_type": "stream",
     "text": [
      "Epoch 2 | Eval Loss: 3.1849\n"
     ]
    },
    {
     "name": "stderr",
     "output_type": "stream",
     "text": []
    },
    {
     "name": "stdout",
     "output_type": "stream",
     "text": [
      "Epoch 3 | Train Loss: 2.4113\n"
     ]
    },
    {
     "name": "stderr",
     "output_type": "stream",
     "text": [
      "  6%|▌         | 3/50 [04:21<1:08:12, 87.07s/it]"
     ]
    },
    {
     "name": "stdout",
     "output_type": "stream",
     "text": [
      "Epoch 3 | Eval Loss: 2.9836\n"
     ]
    },
    {
     "name": "stderr",
     "output_type": "stream",
     "text": []
    },
    {
     "name": "stdout",
     "output_type": "stream",
     "text": [
      "Epoch 4 | Train Loss: 2.1498\n"
     ]
    },
    {
     "name": "stderr",
     "output_type": "stream",
     "text": [
      "  8%|▊         | 4/50 [05:49<1:06:51, 87.21s/it]"
     ]
    },
    {
     "name": "stdout",
     "output_type": "stream",
     "text": [
      "Epoch 4 | Eval Loss: 2.7175\n"
     ]
    },
    {
     "name": "stderr",
     "output_type": "stream",
     "text": []
    },
    {
     "name": "stdout",
     "output_type": "stream",
     "text": [
      "Epoch 5 | Train Loss: 1.9075\n"
     ]
    },
    {
     "name": "stderr",
     "output_type": "stream",
     "text": [
      " 10%|█         | 5/50 [07:15<1:05:16, 87.03s/it]"
     ]
    },
    {
     "name": "stdout",
     "output_type": "stream",
     "text": [
      "Epoch 5 | Eval Loss: 2.4999\n"
     ]
    },
    {
     "name": "stderr",
     "output_type": "stream",
     "text": []
    },
    {
     "name": "stdout",
     "output_type": "stream",
     "text": [
      "Epoch 6 | Train Loss: 1.7381\n"
     ]
    },
    {
     "name": "stderr",
     "output_type": "stream",
     "text": [
      " 12%|█▏        | 6/50 [08:42<1:03:42, 86.87s/it]"
     ]
    },
    {
     "name": "stdout",
     "output_type": "stream",
     "text": [
      "Epoch 6 | Eval Loss: 2.3782\n"
     ]
    },
    {
     "name": "stderr",
     "output_type": "stream",
     "text": []
    },
    {
     "name": "stdout",
     "output_type": "stream",
     "text": [
      "Epoch 7 | Train Loss: 1.6218\n"
     ]
    },
    {
     "name": "stderr",
     "output_type": "stream",
     "text": [
      " 14%|█▍        | 7/50 [10:09<1:02:13, 86.82s/it]"
     ]
    },
    {
     "name": "stdout",
     "output_type": "stream",
     "text": [
      "Epoch 7 | Eval Loss: 2.2898\n"
     ]
    },
    {
     "name": "stderr",
     "output_type": "stream",
     "text": []
    },
    {
     "name": "stdout",
     "output_type": "stream",
     "text": [
      "Epoch 8 | Train Loss: 1.5426\n"
     ]
    },
    {
     "name": "stderr",
     "output_type": "stream",
     "text": [
      " 16%|█▌        | 8/50 [11:35<1:00:43, 86.76s/it]"
     ]
    },
    {
     "name": "stdout",
     "output_type": "stream",
     "text": [
      "Epoch 8 | Eval Loss: 2.2239\n"
     ]
    },
    {
     "name": "stderr",
     "output_type": "stream",
     "text": []
    },
    {
     "name": "stdout",
     "output_type": "stream",
     "text": [
      "Epoch 9 | Train Loss: 1.4877\n"
     ]
    },
    {
     "name": "stderr",
     "output_type": "stream",
     "text": [
      " 18%|█▊        | 9/50 [13:02<59:12, 86.65s/it]  "
     ]
    },
    {
     "name": "stdout",
     "output_type": "stream",
     "text": [
      "Epoch 9 | Eval Loss: 2.1641\n"
     ]
    },
    {
     "name": "stderr",
     "output_type": "stream",
     "text": []
    },
    {
     "name": "stdout",
     "output_type": "stream",
     "text": [
      "Epoch 10 | Train Loss: 1.4470\n"
     ]
    },
    {
     "name": "stderr",
     "output_type": "stream",
     "text": [
      " 20%|██        | 10/50 [14:35<59:07, 88.69s/it]"
     ]
    },
    {
     "name": "stdout",
     "output_type": "stream",
     "text": [
      "Epoch 10 | Eval Loss: 2.0962\n"
     ]
    },
    {
     "name": "stderr",
     "output_type": "stream",
     "text": []
    },
    {
     "name": "stdout",
     "output_type": "stream",
     "text": [
      "Epoch 11 | Train Loss: 1.4157\n"
     ]
    },
    {
     "name": "stderr",
     "output_type": "stream",
     "text": [
      " 22%|██▏       | 11/50 [16:10<58:59, 90.74s/it]"
     ]
    },
    {
     "name": "stdout",
     "output_type": "stream",
     "text": [
      "Epoch 11 | Eval Loss: 2.0462\n"
     ]
    },
    {
     "name": "stderr",
     "output_type": "stream",
     "text": []
    },
    {
     "name": "stdout",
     "output_type": "stream",
     "text": [
      "Epoch 12 | Train Loss: 1.3870\n"
     ]
    },
    {
     "name": "stderr",
     "output_type": "stream",
     "text": [
      " 24%|██▍       | 12/50 [17:45<58:15, 91.98s/it]"
     ]
    },
    {
     "name": "stdout",
     "output_type": "stream",
     "text": [
      "Epoch 12 | Eval Loss: 1.9816\n"
     ]
    },
    {
     "name": "stderr",
     "output_type": "stream",
     "text": []
    },
    {
     "name": "stdout",
     "output_type": "stream",
     "text": [
      "Epoch 13 | Train Loss: 1.3626\n"
     ]
    },
    {
     "name": "stderr",
     "output_type": "stream",
     "text": [
      " 26%|██▌       | 13/50 [19:20<57:11, 92.74s/it]"
     ]
    },
    {
     "name": "stdout",
     "output_type": "stream",
     "text": [
      "Epoch 13 | Eval Loss: 2.0005\n"
     ]
    },
    {
     "name": "stderr",
     "output_type": "stream",
     "text": []
    },
    {
     "name": "stdout",
     "output_type": "stream",
     "text": [
      "Epoch 14 | Train Loss: 1.3368\n"
     ]
    },
    {
     "name": "stderr",
     "output_type": "stream",
     "text": [
      " 28%|██▊       | 14/50 [20:55<56:02, 93.40s/it]"
     ]
    },
    {
     "name": "stdout",
     "output_type": "stream",
     "text": [
      "Epoch 14 | Eval Loss: 1.9688\n"
     ]
    },
    {
     "name": "stderr",
     "output_type": "stream",
     "text": [
      "                                               \r"
     ]
    },
    {
     "ename": "KeyboardInterrupt",
     "evalue": "",
     "output_type": "error",
     "traceback": [
      "\u001b[1;31m---------------------------------------------------------------------------\u001b[0m",
      "\u001b[1;31mKeyboardInterrupt\u001b[0m                         Traceback (most recent call last)",
      "Cell \u001b[1;32mIn[14], line 52\u001b[0m\n\u001b[0;32m     38\u001b[0m \u001b[38;5;250m\u001b[39m\u001b[38;5;124;03m\"\"\" # the loss of enclosing\u001b[39;00m\n\u001b[0;32m     39\u001b[0m \u001b[38;5;124;03mtmp = out.reshape(-1, 4, 730)\u001b[39;00m\n\u001b[0;32m     40\u001b[0m \u001b[38;5;124;03mtmp = tmp * helper\u001b[39;00m\n\u001b[1;32m   (...)\u001b[0m\n\u001b[0;32m     45\u001b[0m \u001b[38;5;124;03mloss_0 = torch.square(tmp[0]) + torch.square(tmp[1])\u001b[39;00m\n\u001b[0;32m     46\u001b[0m \u001b[38;5;124;03mloss += loss_0 \"\"\"\u001b[39;00m\n\u001b[0;32m     49\u001b[0m epoch_loss \u001b[38;5;241m+\u001b[39m\u001b[38;5;241m=\u001b[39m loss\u001b[38;5;241m.\u001b[39mitem()\n\u001b[1;32m---> 52\u001b[0m \u001b[43mloss\u001b[49m\u001b[38;5;241;43m.\u001b[39;49m\u001b[43mbackward\u001b[49m\u001b[43m(\u001b[49m\u001b[43m)\u001b[49m\n\u001b[0;32m     53\u001b[0m optimizer\u001b[38;5;241m.\u001b[39mstep()\n\u001b[0;32m     54\u001b[0m optimizer\u001b[38;5;241m.\u001b[39mzero_grad()\n",
      "File \u001b[1;32mc:\\Users\\wangz\\anaconda3\\envs\\sp\\lib\\site-packages\\torch\\_tensor.py:522\u001b[0m, in \u001b[0;36mTensor.backward\u001b[1;34m(self, gradient, retain_graph, create_graph, inputs)\u001b[0m\n\u001b[0;32m    512\u001b[0m \u001b[38;5;28;01mif\u001b[39;00m has_torch_function_unary(\u001b[38;5;28mself\u001b[39m):\n\u001b[0;32m    513\u001b[0m     \u001b[38;5;28;01mreturn\u001b[39;00m handle_torch_function(\n\u001b[0;32m    514\u001b[0m         Tensor\u001b[38;5;241m.\u001b[39mbackward,\n\u001b[0;32m    515\u001b[0m         (\u001b[38;5;28mself\u001b[39m,),\n\u001b[1;32m   (...)\u001b[0m\n\u001b[0;32m    520\u001b[0m         inputs\u001b[38;5;241m=\u001b[39minputs,\n\u001b[0;32m    521\u001b[0m     )\n\u001b[1;32m--> 522\u001b[0m \u001b[43mtorch\u001b[49m\u001b[38;5;241;43m.\u001b[39;49m\u001b[43mautograd\u001b[49m\u001b[38;5;241;43m.\u001b[39;49m\u001b[43mbackward\u001b[49m\u001b[43m(\u001b[49m\n\u001b[0;32m    523\u001b[0m \u001b[43m    \u001b[49m\u001b[38;5;28;43mself\u001b[39;49m\u001b[43m,\u001b[49m\u001b[43m \u001b[49m\u001b[43mgradient\u001b[49m\u001b[43m,\u001b[49m\u001b[43m \u001b[49m\u001b[43mretain_graph\u001b[49m\u001b[43m,\u001b[49m\u001b[43m \u001b[49m\u001b[43mcreate_graph\u001b[49m\u001b[43m,\u001b[49m\u001b[43m \u001b[49m\u001b[43minputs\u001b[49m\u001b[38;5;241;43m=\u001b[39;49m\u001b[43minputs\u001b[49m\n\u001b[0;32m    524\u001b[0m \u001b[43m\u001b[49m\u001b[43m)\u001b[49m\n",
      "File \u001b[1;32mc:\\Users\\wangz\\anaconda3\\envs\\sp\\lib\\site-packages\\torch\\autograd\\__init__.py:266\u001b[0m, in \u001b[0;36mbackward\u001b[1;34m(tensors, grad_tensors, retain_graph, create_graph, grad_variables, inputs)\u001b[0m\n\u001b[0;32m    261\u001b[0m     retain_graph \u001b[38;5;241m=\u001b[39m create_graph\n\u001b[0;32m    263\u001b[0m \u001b[38;5;66;03m# The reason we repeat the same comment below is that\u001b[39;00m\n\u001b[0;32m    264\u001b[0m \u001b[38;5;66;03m# some Python versions print out the first line of a multi-line function\u001b[39;00m\n\u001b[0;32m    265\u001b[0m \u001b[38;5;66;03m# calls in the traceback and some print out the last line\u001b[39;00m\n\u001b[1;32m--> 266\u001b[0m \u001b[43mVariable\u001b[49m\u001b[38;5;241;43m.\u001b[39;49m\u001b[43m_execution_engine\u001b[49m\u001b[38;5;241;43m.\u001b[39;49m\u001b[43mrun_backward\u001b[49m\u001b[43m(\u001b[49m\u001b[43m  \u001b[49m\u001b[38;5;66;43;03m# Calls into the C++ engine to run the backward pass\u001b[39;49;00m\n\u001b[0;32m    267\u001b[0m \u001b[43m    \u001b[49m\u001b[43mtensors\u001b[49m\u001b[43m,\u001b[49m\n\u001b[0;32m    268\u001b[0m \u001b[43m    \u001b[49m\u001b[43mgrad_tensors_\u001b[49m\u001b[43m,\u001b[49m\n\u001b[0;32m    269\u001b[0m \u001b[43m    \u001b[49m\u001b[43mretain_graph\u001b[49m\u001b[43m,\u001b[49m\n\u001b[0;32m    270\u001b[0m \u001b[43m    \u001b[49m\u001b[43mcreate_graph\u001b[49m\u001b[43m,\u001b[49m\n\u001b[0;32m    271\u001b[0m \u001b[43m    \u001b[49m\u001b[43minputs\u001b[49m\u001b[43m,\u001b[49m\n\u001b[0;32m    272\u001b[0m \u001b[43m    \u001b[49m\u001b[43mallow_unreachable\u001b[49m\u001b[38;5;241;43m=\u001b[39;49m\u001b[38;5;28;43;01mTrue\u001b[39;49;00m\u001b[43m,\u001b[49m\n\u001b[0;32m    273\u001b[0m \u001b[43m    \u001b[49m\u001b[43maccumulate_grad\u001b[49m\u001b[38;5;241;43m=\u001b[39;49m\u001b[38;5;28;43;01mTrue\u001b[39;49;00m\u001b[43m,\u001b[49m\n\u001b[0;32m    274\u001b[0m \u001b[43m\u001b[49m\u001b[43m)\u001b[49m\n",
      "\u001b[1;31mKeyboardInterrupt\u001b[0m: "
     ]
    }
   ],
   "source": [
    "#training\n",
    "\n",
    "\n",
    "\n",
    "train_loss_list = []\n",
    "eval_loss_list = []\n",
    "\n",
    "helper = [i for i in range(-321, 409)]\n",
    "helper = torch.tensor(helper).to(device)\n",
    "\n",
    "for epoch in tqdm(range(num_epochs), leave=False, position=0):\n",
    "    \n",
    "    epoch_loss = 0\n",
    "    model.train()\n",
    "    count = 0\n",
    "    for data in tqdm(train_data, leave=False, position=1):\n",
    "        for panel in data:\n",
    "        \n",
    "\n",
    "            label = []\n",
    "            for i in panel[0]:\n",
    "                for j in i:\n",
    "                    #label.append(round(j + 321))\n",
    "                    label.append(round((j + 321) / 5))\n",
    "            label = torch.tensor(label).to(torch.long).to(device)\n",
    "            \n",
    "            input_data = torch.tensor(panel[0]).to(torch.float).to(device)\n",
    "            edge_index = torch.tensor(panel[1]).to(device).permute(1,0)\n",
    "                \n",
    "            # Forward pass\n",
    "            out = model(input_data, edge_index)\n",
    "            #print(decoder_outputs.size())\n",
    "                \n",
    "            # print(out.shape)\n",
    "            out = out.reshape(-1, n_classes)\n",
    "            # Compute loss\n",
    "            loss = criterion(out, label)\n",
    "            \"\"\" # the loss of enclosing\n",
    "            tmp = out.reshape(-1, 4, 730)\n",
    "            tmp = tmp * helper\n",
    "            tmp = tmp.sum(-1)\n",
    "            tmp = tmp.sum(dim = 0)\n",
    "            \n",
    "            \n",
    "            loss_0 = torch.square(tmp[0]) + torch.square(tmp[1])\n",
    "            loss += loss_0 \"\"\"\n",
    "\n",
    "            \n",
    "            epoch_loss += loss.item()\n",
    "                \n",
    "                \n",
    "            loss.backward()\n",
    "            optimizer.step()\n",
    "            optimizer.zero_grad()\n",
    "            scheduler.step()\n",
    "            count += 1\n",
    "        \n",
    "    \n",
    "        \n",
    "\n",
    "    print(f'Epoch {epoch + 1} | Train Loss: {(epoch_loss / count):.4f}')\n",
    "    train_loss_list.append(epoch_loss / len(train_data))\n",
    "    #eval\n",
    "    eval_loss = 0\n",
    "    model.eval()\n",
    "    count = 0\n",
    "    with torch.no_grad():\n",
    "        for data in  test_data:\n",
    "            for panel in data:\n",
    "                label = []\n",
    "                for i in panel[0]:\n",
    "                    for j in i:\n",
    "                        #label.append(round(j + 321))\n",
    "                        label.append(round((j + 321) / 5))\n",
    "                label = torch.tensor(label).to(torch.long).to(device)\n",
    "\n",
    "                input_data = torch.tensor(panel[0]).to(torch.float).to(device)\n",
    "                edge_index = torch.tensor(panel[1]).to(device).permute(1,0)\n",
    "                    \n",
    "                # Forward pass\n",
    "                out = model(input_data, edge_index)\n",
    "                #print(decoder_outputs.size())\n",
    "                out = out.reshape(-1, n_classes)\n",
    "                # Compute loss\n",
    "                loss = criterion(out, label)\n",
    "                \"\"\"  # the loss of enclosing\n",
    "                tmp = out.reshape(-1, 4, 730)\n",
    "                tmp = tmp * helper\n",
    "                tmp = tmp.sum(-1)\n",
    "                tmp = tmp.sum(dim = 0)\n",
    "                \n",
    "                \n",
    "                loss_0 = torch.square(tmp[0]) + torch.square(tmp[1])\n",
    "                loss += loss_0 \"\"\"\n",
    "                \n",
    "                eval_loss += loss.item()\n",
    "                count += 1\n",
    "    print(f'Epoch {epoch + 1} | Eval Loss: {(eval_loss / count):.4f}')\n",
    "    eval_loss_list.append(eval_loss / len(test_data))\n",
    "        \n",
    "        "
   ]
  },
  {
   "cell_type": "code",
   "execution_count": null,
   "metadata": {},
   "outputs": [
    {
     "data": {
      "image/png": "[encoded data removed]",
      "text/plain": [
       "<Figure size 640x480 with 1 Axes>"
      ]
     },
     "metadata": {},
     "output_type": "display_data"
    }
   ],
   "source": [
    "from matplotlib.pylab import plt\n",
    "\n",
    "epochs = range(1, 51)\n",
    "\n",
    "plt.plot(epochs, train_loss_list, label='Training Loss')\n",
    "plt.plot(epochs, eval_loss_list, label='Validation Loss')\n",
    "\n",
    "plt.title('Training and Validation Loss')\n",
    "plt.xlabel('Epochs')\n",
    "plt.ylabel('Loss')\n",
    "plt.show()"
   ]
  },
  {
   "cell_type": "code",
   "execution_count": 61,
   "metadata": {},
   "outputs": [],
   "source": [
    "torch.save(model.state_dict(), 'models/classification(100_50)_3layers.pt')"
   ]
  },
  {
   "cell_type": "code",
   "execution_count": 20,
   "metadata": {},
   "outputs": [],
   "source": [
    "def save_res(file_name, out):\n",
    "    doc = minidom.parse(file_name)\n",
    "    for i in out:\n",
    "        tmp = []\n",
    "        tmp.append('M')\n",
    "        \n",
    "        tmp.append(str(i[0]))\n",
    "        tmp.append(str(i[1]))\n",
    "        tmp.append(\"Q\")\n",
    "        tmp.append(str(i[4]))\n",
    "        tmp.append(str(i[5]))\n",
    "        tmp.append(str(i[2]))\n",
    "        tmp.append(str(i[3]))\n",
    "        x = doc.createElement(\"path\")\n",
    "        x.setAttribute(\"d\" , \" \".join(tmp))\n",
    "        x.setAttribute(\"stroke\" , \"red\")\n",
    "        x.setAttribute(\"fill\" , \"none\")\n",
    "        doc.childNodes[0].appendChild(x)\n",
    "    \n",
    "    doc.writexml(open(join(\"res\", file_name[-37:-4] + \"_res.svg\"), 'w'))\n",
    "    "
   ]
  },
  {
   "cell_type": "code",
   "execution_count": 10,
   "metadata": {},
   "outputs": [
    {
     "data": {
      "text/plain": [
       "testModel(\n",
       "  (sage1): SAGEConv(4, 16, aggr=mean)\n",
       "  (relu): ReLU()\n",
       "  (sage2): SAGEConv(16, 32, aggr=mean)\n",
       "  (sage3): SAGEConv(32, 64, aggr=mean)\n",
       "  (resnet): ResNet1D(\n",
       "    (first_block_conv): MyConv1dPadSame(\n",
       "      (conv): Conv1d(64, 64, kernel_size=(2,), stride=(1,))\n",
       "    )\n",
       "    (first_block_bn): BatchNorm1d(64, eps=1e-05, momentum=0.1, affine=True, track_running_stats=True)\n",
       "    (first_block_relu): ReLU()\n",
       "    (basicblock_list): ModuleList(\n",
       "      (0-3): 4 x BasicBlock(\n",
       "        (bn1): BatchNorm1d(64, eps=1e-05, momentum=0.1, affine=True, track_running_stats=True)\n",
       "        (relu1): ReLU()\n",
       "        (do1): Dropout(p=0.5, inplace=False)\n",
       "        (conv1): MyConv1dPadSame(\n",
       "          (conv): Conv1d(64, 64, kernel_size=(2,), stride=(1,))\n",
       "        )\n",
       "        (bn2): BatchNorm1d(64, eps=1e-05, momentum=0.1, affine=True, track_running_stats=True)\n",
       "        (relu2): ReLU()\n",
       "        (do2): Dropout(p=0.5, inplace=False)\n",
       "        (conv2): MyConv1dPadSame(\n",
       "          (conv): Conv1d(64, 64, kernel_size=(2,), stride=(1,))\n",
       "        )\n",
       "        (max_pool): MyMaxPool1dPadSame(\n",
       "          (max_pool): MaxPool1d(kernel_size=1, stride=1, padding=0, dilation=1, ceil_mode=False)\n",
       "        )\n",
       "      )\n",
       "      (4): BasicBlock(\n",
       "        (bn1): BatchNorm1d(64, eps=1e-05, momentum=0.1, affine=True, track_running_stats=True)\n",
       "        (relu1): ReLU()\n",
       "        (do1): Dropout(p=0.5, inplace=False)\n",
       "        (conv1): MyConv1dPadSame(\n",
       "          (conv): Conv1d(64, 128, kernel_size=(2,), stride=(1,))\n",
       "        )\n",
       "        (bn2): BatchNorm1d(128, eps=1e-05, momentum=0.1, affine=True, track_running_stats=True)\n",
       "        (relu2): ReLU()\n",
       "        (do2): Dropout(p=0.5, inplace=False)\n",
       "        (conv2): MyConv1dPadSame(\n",
       "          (conv): Conv1d(128, 128, kernel_size=(2,), stride=(1,))\n",
       "        )\n",
       "        (max_pool): MyMaxPool1dPadSame(\n",
       "          (max_pool): MaxPool1d(kernel_size=1, stride=1, padding=0, dilation=1, ceil_mode=False)\n",
       "        )\n",
       "      )\n",
       "      (5-7): 3 x BasicBlock(\n",
       "        (bn1): BatchNorm1d(128, eps=1e-05, momentum=0.1, affine=True, track_running_stats=True)\n",
       "        (relu1): ReLU()\n",
       "        (do1): Dropout(p=0.5, inplace=False)\n",
       "        (conv1): MyConv1dPadSame(\n",
       "          (conv): Conv1d(128, 128, kernel_size=(2,), stride=(1,))\n",
       "        )\n",
       "        (bn2): BatchNorm1d(128, eps=1e-05, momentum=0.1, affine=True, track_running_stats=True)\n",
       "        (relu2): ReLU()\n",
       "        (do2): Dropout(p=0.5, inplace=False)\n",
       "        (conv2): MyConv1dPadSame(\n",
       "          (conv): Conv1d(128, 128, kernel_size=(2,), stride=(1,))\n",
       "        )\n",
       "        (max_pool): MyMaxPool1dPadSame(\n",
       "          (max_pool): MaxPool1d(kernel_size=1, stride=1, padding=0, dilation=1, ceil_mode=False)\n",
       "        )\n",
       "      )\n",
       "    )\n",
       "    (final_bn): BatchNorm1d(128, eps=1e-05, momentum=0.1, affine=True, track_running_stats=True)\n",
       "    (final_relu): ReLU(inplace=True)\n",
       "    (dense): Linear(in_features=128, out_features=2920, bias=True)\n",
       "  )\n",
       ")"
      ]
     },
     "execution_count": 10,
     "metadata": {},
     "output_type": "execute_result"
    }
   ],
   "source": [
    "model = testModel(4, 4 * n_classes).to(device)\n",
    "model.load_state_dict(torch.load('models/classification(100_50)_3layers.pt'))\n",
    "model.eval()"
   ]
  },
  {
   "cell_type": "code",
   "execution_count": 22,
   "metadata": {},
   "outputs": [
    {
     "name": "stdout",
     "output_type": "stream",
     "text": [
      "[[105, 0, 60, 0], [-15, -150, 140, 15], [-75, 0, 40, 0], [-30, 75, 60, -25], [0, 105, 5, -10], [85, 0, 45, 0], [0, -120, 80, -10], [-30, -85, 25, -30], [-45, 0, 25, 0], [-15, 185, 20, 15], [105, 0, 50, 0], [0, -120, 80, -10], [-30, -90, 25, -30], [-75, 0, 25, 0], [-15, 155, 20, 15], [95, 0, 50, 0], [-15, -150, 140, 15], [-45, 0, 25, 0], [-30, 75, 60, -25], [0, 105, 5, -10]]\n",
      "[[-120, 0, 60, 0], [15, -210, 205, 20], [-75, 0, 25, 0], [-30, 75, 60, -25], [0, 140, 10, -15], [-120, 0, 35, 0], [0, -175, 95, -15], [-30, -70, 25, -25], [-45, 0, 25, 0], [0, 170, 10, 15], [80, 0, 60, 0], [0, -175, 100, -15], [-30, -70, 20, -25], [-75, 0, 70, 0], [0, 155, 10, 15], [-120, 0, 60, 0], [15, -210, 205, 20], [-45, 0, 25, 0], [-30, 75, 60, -25], [0, 140, 10, -15]]\n",
      "[[95, 0, 50, 0], [20, -130, 110, 10], [-75, 0, 40, 0], [-30, 70, 60, -25], [0, 90, 5, -5], [15, 0, 45, 0], [0, -95, 50, -10], [-30, -75, 25, -25], [-45, 0, 25, 0], [10, -130, 10, 10], [95, 0, 50, 0], [0, -95, 50, -5], [-30, -85, 25, -30], [-75, 0, 40, 0], [20, 105, 10, 15], [85, 0, 45, 0], [20, -130, 110, 10], [-45, 0, 25, 0], [-30, 70, 60, -25], [0, 95, 5, -5]]\n",
      "[[95, 0, 50, 0], [10, -130, 110, 10], [-75, 0, 40, 0], [-30, 70, 60, -25], [0, 90, 50, -5], [15, 0, 45, 0], [0, -95, 50, -10], [-30, -75, 25, -25], [-45, 0, 25, 0], [10, -130, 10, 10], [50, 0, 50, 0], [0, -95, 50, -5], [-30, -75, 25, -30], [-75, 0, 40, 0], [20, -145, 10, 15], [85, 0, 50, 0], [10, -130, 110, 10], [-45, 0, 25, 0], [-30, 70, 60, -25], [0, 90, 5, -5]]\n",
      "[[105, 0, 50, 0], [10, -105, 60, 10], [-75, 0, 40, 0], [10, 75, 60, -30], [0, 80, 50, 0], [15, 0, 45, 0], [0, -95, 50, 0], [5, -100, 25, -35], [-45, 0, 25, 0], [10, 105, 20, 10], [95, 0, 50, 0], [0, -45, 50, 0], [5, -100, 25, -35], [-75, 0, 40, 0], [15, 120, 15, 15], [95, 0, 50, 0], [20, -105, 110, 10], [-45, 0, 25, 0], [-30, -95, 60, -25], [0, 45, 45, 0]]\n",
      "[[105, 0, 55, 0], [20, -115, 115, 10], [-75, 0, 40, 0], [10, 75, 60, -30], [0, 80, 60, 0], [15, 0, 45, 0], [0, -100, 50, 0], [-30, -100, 25, -35], [-45, 0, 25, 0], [30, 120, 15, 10], [95, 0, 50, 0], [0, -45, 50, 0], [-30, -100, 25, -35], [-75, 0, 40, 0], [30, 120, 15, 15], [105, 0, 50, 0], [20, -115, 115, 10], [-45, 0, 25, 0], [10, -95, 60, -25], [0, 45, 45, 0]]\n",
      "[[105, 0, 50, 0], [20, -130, 115, 10], [-75, 0, 40, 0], [10, 75, 55, 0], [0, 90, 60, -5], [15, 0, 45, 0], [0, -100, 50, -10], [-30, -85, 25, -30], [-45, 0, 25, 0], [10, -130, 25, 10], [95, 0, 50, 0], [0, -100, 50, -5], [-30, -90, 25, -30], [-75, 0, 40, 0], [20, -145, 20, 15], [95, 0, 50, 0], [20, -130, 110, 10], [-45, 0, 25, 0], [-30, -95, 60, -25], [0, 45, 50, -5]]\n",
      "[[105, 0, 50, 0], [20, -150, 140, 15], [-75, 0, 40, 0], [-30, 75, 60, -25], [0, 105, 5, -10], [85, 0, 45, 0], [0, -120, 80, -10], [-30, -75, 25, -25], [-45, 0, 25, 0], [20, 185, 20, 15], [95, 0, 50, 0], [0, -120, 80, -10], [-30, -75, 25, -25], [-75, 0, 25, 0], [20, 155, 15, 15], [85, 0, 45, 0], [20, -150, 140, 15], [-45, 0, 25, 0], [-30, 70, 60, -25], [0, 105, 5, -10]]\n",
      "[[110, 0, 60, 0], [-15, -190, 170, 20], [-75, 0, 25, 0], [-30, 75, 60, -25], [0, 125, 5, -10], [90, 0, 45, 0], [0, -130, 130, -10], [-30, -85, 25, -25], [-45, 0, 25, 0], [-15, 170, 20, 15], [105, 0, 60, 0], [0, -130, 105, -10], [-30, -85, 25, -30], [-75, 0, 25, 0], [-15, 170, 20, 20], [95, 0, 50, 0], [-15, -180, 165, 20], [-45, 0, 25, 0], [-30, 75, 60, -25], [0, 125, 5, -10]]\n",
      "[[105, 0, 50, 0], [5, -100, 60, 0], [-75, 0, 40, 0], [10, 75, 55, -30], [0, 80, 50, 0], [15, -100, 50, 0], [0, -75, 50, 0], [5, -100, 25, -35], [-45, 0, 25, 0], [10, 105, 60, 0], [15, -100, 50, 0], [0, -30, 50, 0], [5, -100, 25, -35], [-75, 0, 40, 0], [10, 0, 65, 0], [95, 0, 50, 0], [5, -100, 60, 0], [-45, -70, 25, 0], [10, -95, 25, -25], [0, 45, 50, 0]]\n",
      "[[105, 0, 50, 0], [20, -130, 110, 15], [-75, 0, 40, 0], [-30, 75, 60, -25], [0, 95, 5, -10], [50, 0, 45, 0], [0, -100, 85, -10], [-30, -85, 25, -25], [-45, 0, 25, 0], [20, 105, 20, 15], [90, 0, 50, 0], [0, -100, 80, -10], [-30, -85, 25, -30], [-75, 0, 40, 0], [20, 120, 15, 15], [85, 0, 45, 0], [20, -130, 110, 15], [-45, 0, 25, 0], [-30, 70, 60, -25], [0, 95, 5, -10]]\n",
      "[[105, 0, 60, 0], [0, -210, 195, 20], [-75, 0, 25, 0], [-30, 75, 60, -25], [0, 140, 10, -15], [75, 0, 35, 0], [0, -160, 150, -15], [-30, 0, 20, -25], [-45, 0, 25, 0], [0, 185, 10, 10], [95, 0, 50, 0], [0, -150, 150, -15], [-30, 0, 20, -25], [-75, 0, 60, 0], [0, 185, 10, 15], [-120, 0, 35, 0], [0, -210, 205, 20], [-45, 0, 25, 0], [-30, 75, 60, -25], [0, 155, 10, -15]]\n",
      "[[110, 0, 60, 0], [0, -215, 80, 20], [-75, 0, 25, 0], [-30, 75, 60, -25], [0, 140, 10, -15], [75, 0, 35, 0], [0, -175, 185, -15], [-30, -70, 20, -25], [-45, 0, 25, 0], [0, 170, 10, 15], [105, 0, 60, 0], [0, -175, 100, -15], [-30, -70, 20, -25], [-75, 0, 60, 0], [0, 155, 10, 20], [-120, 0, 60, 0], [0, -215, 80, 20], [-45, 0, 25, 0], [-30, 75, 60, -25], [0, 140, 10, -15]]\n",
      "[[105, 0, 60, 0], [0, -190, 170, 20], [-75, 0, 40, 0], [-30, 75, 60, -25], [0, 140, 10, -15], [85, 0, 45, 0], [0, -145, 140, -15], [-30, -70, 20, -25], [-45, 0, 25, 0], [-15, 185, 10, 15], [105, 0, 60, 0], [0, -145, 140, -15], [-30, -70, 20, -25], [-75, 0, 25, 0], [-15, 185, 20, 20], [90, 0, 45, 0], [-15, -190, 170, 20], [-45, 0, 25, 0], [-30, 75, 60, -25], [0, 140, 10, -15]]\n",
      "[[-120, 0, 60, 0], [15, -210, 210, 25], [-75, 0, 75, 0], [-30, 75, 60, -25], [0, 140, 10, -15], [-120, 0, 60, 0], [0, -175, 95, -15], [-30, 0, 25, -25], [-45, 0, 25, 0], [0, 170, 10, 15], [80, 0, 60, 0], [0, -175, 100, -15], [-30, 0, 20, -25], [-75, 0, 70, 0], [0, 155, 10, 15], [-120, 0, 60, 0], [0, -210, 210, 25], [-45, 0, 25, 0], [-30, 75, 60, -25], [0, 140, 10, -15]]\n",
      "[[105, 0, 50, 0], [20, -130, 115, 15], [-75, 0, 40, 0], [-30, 75, 60, -25], [0, 90, 5, -5], [15, 0, 45, 0], [0, -95, 50, -10], [-30, -90, 25, -30], [-45, 0, 25, 0], [10, 105, 20, 15], [95, 0, 50, 0], [0, -100, 50, -5], [-30, -90, 25, -35], [-75, 0, 40, 0], [35, 120, 15, 15], [95, 0, 50, 0], [20, -130, 115, 15], [-45, 0, 25, 0], [-30, 70, 60, -25], [0, 90, 5, -5]]\n",
      "[[95, 0, 50, 0], [10, -100, 60, 10], [-75, 0, 40, 0], [-30, 70, 60, -25], [0, 80, 50, -5], [0, 0, 60, 0], [0, -95, 50, 0], [-30, -75, 25, -30], [-45, 0, 25, 0], [10, 105, 10, 10], [85, 0, 60, 0], [0, -45, 50, -5], [-30, -90, 25, -30], [-75, 0, 25, 0], [15, 105, 10, 15], [80, 0, 45, 0], [10, -100, 60, 10], [-45, 0, 25, 0], [-30, 70, 60, -25], [0, 90, 5, -10]]\n"
     ]
    },
    {
     "name": "stderr",
     "output_type": "stream",
     "text": [
      "C:\\Users\\wangz\\AppData\\Local\\Temp\\ipykernel_15828\\2474034235.py:28: RuntimeWarning: invalid value encountered in divide\n",
      "  center_p = start_p + line * out[index][2] / np.linalg.norm(line) + p_line * out[index][3] / np.linalg.norm(p_line)\n"
     ]
    },
    {
     "name": "stdout",
     "output_type": "stream",
     "text": [
      "[[110, 0, 60, 0], [-15, -210, 195, 20], [-75, 0, 40, 0], [-30, 75, 60, 0], [0, 140, 10, -15], [85, 0, 45, 0], [0, -175, 150, -15], [-30, 0, 20, -25], [-45, 0, 25, 0], [0, 185, 10, 15], [105, 0, 60, 0], [0, -150, 150, -15], [-30, -70, 20, -25], [-75, 0, 60, 0], [0, 185, 10, 20], [80, 0, 45, 0], [-15, -215, 195, 20], [-45, 0, 25, 0], [-30, 75, 60, -25], [0, 155, 10, -15]]\n",
      "[[105, 0, 60, 0], [15, -180, 170, 20], [-75, 0, 25, 0], [-30, 75, 60, -25], [0, 125, 10, -10], [65, 0, 35, 0], [0, -130, 130, -10], [-30, -70, 20, -25], [-45, 0, 25, 0], [0, 185, 10, 15], [95, 0, 50, 0], [0, -130, 125, -10], [-30, -70, 20, -25], [-75, 0, 25, 0], [10, 155, 10, 15], [75, 0, 35, 0], [15, -180, 170, 20], [-45, 0, 25, 0], [-30, 75, 60, -25], [0, 135, 10, -10]]\n",
      "[[-120, 0, 60, 0], [15, -210, 205, 20], [-75, 0, 25, 0], [-30, 75, 60, -25], [0, 140, 10, -15], [-120, 0, 30, 0], [0, -160, 95, -15], [-30, -70, 25, -25], [-45, 0, 25, 0], [0, 105, 10, 15], [80, 0, 35, 0], [0, -150, 100, -15], [-30, -70, 20, -25], [-75, 0, 70, 0], [0, 155, 10, 15], [-120, 0, 60, 0], [15, -210, 205, 20], [-45, 0, 25, 0], [-30, 75, 60, -25], [0, 140, 10, -10]]\n",
      "[[110, 0, 60, 0], [-15, -215, 80, 20], [-75, 0, 25, 0], [-30, 75, 60, -25], [0, 140, 10, -15], [105, 0, 55, 0], [0, -190, 185, -20], [-30, -70, 20, -25], [-45, 0, 25, 0], [-25, 185, 10, 15], [110, 0, 60, 0], [0, -190, 185, -15], [-30, -70, 20, -25], [-75, 0, 40, 0], [-25, 185, 20, 20], [-120, 0, 60, 0], [-15, -215, 80, 20], [-45, 0, 25, 0], [-30, 75, 60, -25], [0, 140, 10, -15]]\n",
      "[[110, 0, 60, 0], [-15, -215, 80, 20], [-75, 0, 25, 0], [-30, 75, 60, -25], [0, 140, 10, -15], [105, 0, 50, 0], [0, -180, 170, -15], [-30, -70, 20, -25], [-45, 0, 25, 0], [-25, 185, 20, 15], [115, 0, 60, 0], [0, -180, 170, -15], [-30, -70, 20, -25], [-75, 0, 25, 0], [-25, 185, 20, 20], [95, 0, 60, 0], [-15, -215, 80, 20], [-45, 0, 25, 0], [-30, 75, 60, -25], [0, 140, 10, -15]]\n",
      "[[105, 0, 60, 0], [0, -190, 170, 20], [-75, 0, 25, 0], [-30, 75, 60, -25], [0, 140, 10, -15], [75, 0, 35, 0], [0, -145, 140, -15], [-30, -70, 20, -25], [-45, 0, 25, 0], [0, 185, 10, 15], [105, 0, 50, 0], [0, -145, 140, -15], [-30, -70, 20, -25], [-75, 0, 60, 0], [0, 185, 10, 15], [80, 0, 45, 0], [0, -190, 170, 20], [-45, 0, 25, 0], [-30, 75, 60, -25], [0, 140, 10, -15]]\n",
      "[[105, 0, 60, 0], [5, -180, 170, 20], [-75, 0, 25, 0], [-30, 75, 60, -25], [0, 125, 5, -10], [75, 0, 35, 0], [0, -130, 130, -10], [-30, -70, 25, -25], [-45, 0, 25, 0], [0, 185, 10, 15], [95, 0, 50, 0], [0, -130, 125, -10], [-30, -75, 20, -25], [-75, 0, 25, 0], [0, 155, 20, 15], [80, 0, 45, 0], [5, -180, 170, 20], [-45, 0, 25, 0], [-30, 75, 60, -25], [0, 135, 10, -10]]\n",
      "[[105, 0, 50, 0], [10, -105, 60, 10], [-75, 0, 40, 0], [10, 75, 55, 0], [0, 90, 50, -5], [15, 0, 45, 0], [0, -100, 50, 0], [5, -90, 25, -30], [-45, 0, 25, 0], [10, -130, 25, 10], [95, 0, 50, 0], [0, -100, 50, 0], [5, -90, 25, -35], [-75, 0, 40, 0], [20, 105, 20, 15], [95, 0, 50, 0], [20, -105, 110, 10], [-45, 0, 25, 0], [10, -95, 60, -25], [0, 45, 50, 0]]\n",
      "[[95, 0, 50, 0], [10, -100, 60, 10], [-75, 0, 40, 0], [-30, 70, 60, -25], [0, 80, 50, -5], [0, 0, 60, 0], [0, -45, 50, 0], [-30, -90, 25, -30], [-45, 0, 25, 0], [10, 105, 10, 10], [85, 0, 60, 0], [0, -45, 50, -5], [-30, -90, 25, -30], [-75, 0, 25, 0], [15, 105, 15, 15], [80, 0, 45, 0], [10, -100, 60, 10], [-45, 0, 25, 0], [-30, 70, 60, -25], [0, 80, 5, -5]]\n",
      "[[80, 0, 60, 0], [15, -175, 170, 20], [-75, 0, 25, 0], [-30, 75, 60, -25], [0, 105, 10, -10], [45, 0, 35, 0], [0, -135, 130, -10], [-30, 0, 20, -25], [-45, 0, 25, 0], [0, 190, 10, 10], [80, 0, 45, 0], [0, -135, 130, -10], [-30, 0, 20, -25], [-75, 0, 60, 0], [0, 180, 10, 15], [-120, 0, 35, 0], [15, -175, 170, 20], [-45, 0, 25, 0], [-30, 75, 60, -25], [0, 105, 10, -10]]\n",
      "[[105, 0, 50, 0], [20, -145, 140, 15], [-75, 0, 40, 0], [-30, 75, 60, -25], [0, 95, 5, -10], [75, 0, 35, 0], [0, -100, 60, -10], [-30, -90, 25, -30], [-45, 0, 25, 0], [20, 105, 15, 15], [95, 0, 50, 0], [0, -100, 80, -10], [-30, -90, 25, -30], [-75, 0, 25, 0], [35, 140, 15, 15], [85, 0, 45, 0], [20, -145, 140, 15], [-45, 0, 25, 0], [-30, 80, 60, -25], [0, 95, 5, -10]]\n",
      "[[95, 0, 50, 0], [10, -100, 60, 10], [-75, 0, 40, 0], [-30, 70, 60, -25], [0, 90, 50, -5], [0, 0, 60, 0], [0, -95, 50, -10], [-30, -75, 25, -25], [-45, 0, 25, 0], [10, 105, 10, 10], [50, 0, 50, 0], [0, -95, 50, -5], [-30, -75, 25, -25], [-75, 0, 25, 0], [20, 105, 10, 15], [15, 0, 45, 0], [10, -100, 60, 10], [-45, 0, 25, 0], [-30, 70, 60, -25], [0, 90, 5, -5]]\n",
      "[[95, 0, 50, 0], [20, -130, 60, 10], [-75, 0, 40, 0], [-30, 75, 60, -25], [0, 80, 5, -5], [0, 0, 60, 0], [0, -95, 50, -5], [-30, -90, 25, -30], [-45, 0, 25, 0], [15, 105, 10, 15], [85, 0, 45, 0], [0, -45, 50, -5], [-30, -90, 25, -30], [-75, 0, 25, 0], [15, 105, 15, 15], [80, 0, 45, 0], [20, -100, 60, 10], [-45, 0, 25, 0], [-30, 70, 60, -25], [0, 80, 5, -10]]\n",
      "[[105, 0, 60, 0], [0, -210, 210, 20], [-75, 0, 25, 0], [-30, 75, 60, -25], [0, 140, 10, -15], [65, 0, 35, 0], [0, -175, 100, -15], [-30, 0, 25, -25], [-45, 0, 25, 0], [0, 185, 10, 10], [95, 0, 50, 0], [0, -175, 100, -15], [-30, 0, 20, -25], [-75, 0, 60, 0], [0, 185, 10, 15], [-120, 0, 60, 0], [0, -210, 205, 20], [-45, 0, 25, 0], [-30, 75, 60, -25], [0, 140, 10, -15]]\n",
      "[[110, 0, 60, 0], [-15, -215, 80, 20], [-75, 0, 25, 0], [-30, 75, 60, -25], [0, 140, 10, -15], [95, 0, 60, 0], [0, -190, 185, -20], [-30, -70, 20, -25], [-45, 0, 25, 0], [-20, 170, 10, 15], [110, 0, 60, 0], [0, -190, 185, -15], [-30, -70, 20, -25], [-75, 0, 60, 0], [-15, 185, 20, 20], [-120, 0, 60, 0], [-15, -215, 80, 20], [-45, 0, 25, 0], [-30, 75, 60, -25], [0, 140, 10, -15]]\n",
      "[[105, 0, 55, 0], [5, -100, 60, -35], [-75, 0, 40, 0], [10, 75, 60, -30], [0, 80, 50, 0], [15, 0, 60, 0], [0, -30, 50, 0], [5, -100, 25, -35], [-45, 0, 25, 0], [10, 105, 65, 10], [95, 0, 50, 0], [0, -30, 50, 0], [5, -100, 25, -35], [-75, 0, 40, 0], [15, 105, 65, 10], [105, 0, 50, 0], [5, -100, 60, 10], [-45, 0, 25, 0], [-30, -95, 25, -25], [0, 45, 45, 0]]\n",
      "[[110, 0, 60, 0], [-15, -215, 80, 20], [-75, 0, 25, 0], [-30, 75, 60, -25], [0, 140, 10, -15], [80, 0, 45, 0], [0, -175, 185, -15], [-30, -70, 20, -25], [-45, 0, 25, 0], [0, 170, 10, 15], [105, 0, 60, 0], [0, -180, 170, -15], [-30, -70, 20, -25], [-75, 0, 60, 0], [-15, 185, 10, 20], [-120, 0, 60, 0], [-15, -215, 80, 20], [-45, 0, 25, 0], [-30, 75, 60, -25], [0, 140, 10, -15]]\n",
      "[[110, 0, 60, 0], [-15, -190, 170, 20], [-75, 0, 25, 0], [-30, 75, 60, -25], [0, 140, 10, -10], [85, 0, 45, 0], [0, -145, 150, -15], [-30, -70, 20, -25], [-45, 0, 25, 0], [-15, 185, 20, 15], [105, 0, 60, 0], [0, -145, 140, -15], [-30, -75, 20, -25], [-75, 0, 25, 0], [-15, 155, 20, 20], [80, 0, 45, 0], [-15, -190, 80, 20], [-45, 0, 25, 0], [-30, 75, 60, -25], [0, 140, 10, -15]]\n",
      "[[105, 0, 60, 0], [5, -190, 170, 20], [-75, 0, 25, 0], [-30, 75, 60, -25], [0, 135, 10, -10], [65, 0, 35, 0], [0, -145, 130, -15], [-30, -70, 20, -25], [-45, 0, 25, 0], [0, 185, 10, 15], [95, 0, 50, 0], [0, -145, 130, -15], [-30, -70, 20, -25], [-75, 0, 60, 0], [0, 155, 10, 15], [75, 0, 35, 0], [5, -190, 170, 20], [-45, 0, 25, 0], [-30, 75, 60, -25], [0, 140, 10, -15]]\n",
      "[[105, 0, 50, 0], [10, -100, 60, 10], [-75, 0, 40, 0], [10, 75, 55, -30], [0, 80, 50, 0], [15, 0, 50, 0], [0, -75, 50, 0], [5, -90, 25, -30], [-45, 0, 25, 0], [10, 105, 25, 0], [50, 0, 50, 0], [0, -45, 50, 0], [5, -90, 25, -35], [-75, 0, 40, 0], [10, 105, 20, 10], [95, 0, 50, 0], [10, -100, 60, 10], [-45, 0, 25, 0], [10, -95, 25, -25], [0, 45, 50, 0]]\n",
      "[[105, 0, 60, 0], [0, -190, 170, 20], [-75, 0, 40, 0], [-30, 75, 60, -25], [0, 140, 10, -15], [80, 0, 45, 0], [0, -145, 140, -15], [-30, -70, 20, -25], [-45, 0, 25, 0], [0, 185, 10, 15], [105, 0, 50, 0], [0, -145, 140, -15], [-30, -70, 20, -25], [-75, 0, 60, 0], [0, 185, 10, 20], [80, 0, 45, 0], [0, -190, 170, 20], [-45, 0, 25, 0], [-30, 75, 60, -25], [0, 140, 10, -15]]\n",
      "[[105, 0, 60, 0], [5, -180, 170, 20], [-75, 0, 25, 0], [-30, 75, 60, -25], [0, 125, 5, -10], [80, 0, 45, 0], [0, -130, 130, -10], [-30, -75, 25, -25], [-45, 0, 25, 0], [0, 185, 20, 15], [105, 0, 50, 0], [0, -120, 105, -10], [-30, -75, 25, -25], [-75, 0, 25, 0], [0, 155, 20, 15], [85, 0, 45, 0], [5, -180, 170, 20], [-45, 0, 25, 0], [-30, 75, 60, -25], [0, 125, 5, -10]]\n",
      "[[-120, 0, 60, 0], [0, -215, 210, 20], [-75, 0, 25, 0], [-30, 75, 60, -25], [0, 140, 10, -15], [-120, 0, 35, 0], [0, -190, 100, -15], [-30, 0, 25, -25], [-45, 0, 25, 0], [0, 185, 10, -15], [105, 0, 60, 0], [0, -190, 100, -15], [-30, 0, 20, -25], [-75, 0, 60, 0], [0, 155, 10, 15], [-120, 0, 60, 0], [0, -210, 210, 25], [-45, 0, 25, 0], [-30, 75, 60, -25], [0, 140, 10, -15]]\n",
      "[[110, 0, 60, 0], [-15, -215, 80, 20], [-75, 0, 25, 0], [-30, 75, 60, -25], [0, 140, 10, -15], [80, 0, 60, 0], [0, -190, 185, -20], [-30, 0, 20, -25], [-45, 0, 25, 0], [0, 170, 10, 15], [110, 0, 60, 0], [0, -190, 100, -20], [-30, -70, 20, -25], [-75, 0, 60, 0], [0, 185, 10, 20], [-120, 0, 60, 0], [-15, -215, 80, 25], [-45, 0, 25, 0], [-30, 75, 60, -25], [0, 140, 10, -15]]\n",
      "[[105, 0, 50, 0], [10, -100, 60, 10], [-75, 0, 40, 0], [-30, 70, 60, -25], [0, 80, 50, 0], [0, 0, 60, 0], [0, -35, 50, 0], [-30, -90, 25, -30], [-45, 0, 25, 0], [10, 105, 65, 10], [50, 0, 60, 0], [0, -45, 50, 0], [-30, -100, 25, -35], [-75, 0, 40, 0], [15, 105, 65, 10], [95, 0, 50, 0], [10, -100, 60, 10], [-45, 0, 25, 0], [-30, -95, 60, -25], [0, 45, 50, -5]]\n",
      "[[105, 0, 50, 0], [20, -130, 115, 15], [-75, 0, 40, 0], [10, 75, 60, -25], [0, 90, 60, -5], [15, 0, 45, 0], [0, -100, 60, -10], [-30, -90, 25, -35], [-45, 0, 25, 0], [-15, 120, 20, 15], [95, 0, 50, 0], [0, -100, 50, -5], [-30, -90, 25, -35], [-75, 0, 40, 0], [-15, 140, 15, 15], [95, 0, 50, 0], [20, -130, 115, 15], [-45, 0, 25, 0], [-30, 70, 60, -25], [0, 45, 5, -5]]\n",
      "[[105, 0, 50, 0], [15, -160, 170, 20], [-75, 0, 25, 0], [-30, 75, 60, -25], [0, 125, 5, -10], [75, 0, 35, 0], [0, -130, 120, -10], [-30, -75, 25, -25], [-45, 0, 25, 0], [10, 185, 10, 15], [95, 0, 50, 0], [0, -120, 105, -10], [-30, -75, 25, -25], [-75, 0, 25, 0], [10, 155, 15, 15], [80, 0, 35, 0], [15, -160, 170, 20], [-45, 0, 25, 0], [-30, 75, 60, -25], [0, 125, 5, -10]]\n",
      "[[95, 0, 50, 0], [10, -100, 60, 10], [-75, 0, 40, 0], [-30, 70, 60, -25], [0, 80, 50, -5], [0, 0, 60, 0], [0, -45, 50, 0], [-30, -75, 25, -30], [-45, 0, 25, 0], [10, 105, 65, 10], [50, 0, 60, 0], [0, -45, 50, -5], [-30, -90, 25, -30], [-75, 0, 40, 0], [15, 105, 65, 10], [85, 0, 45, 0], [10, -100, 60, 10], [-45, 0, 25, 0], [-30, -95, 60, -25], [0, 90, 50, -5]]\n",
      "[[105, 0, 60, 0], [5, -190, 170, 20], [-75, 0, 25, 0], [-30, 75, 60, -25], [0, 105, 10, -10], [75, 0, 35, 0], [0, -130, 130, -10], [-30, -70, 20, -25], [-45, 0, 25, 0], [0, 185, 10, 15], [95, 0, 50, 0], [0, -130, 130, -10], [-30, -70, 20, -25], [-75, 0, 60, 0], [0, 180, 10, 15], [75, 0, 35, 0], [15, -190, 170, 20], [-45, 0, 25, 0], [-30, 75, 60, -25], [0, 105, 10, -10]]\n",
      "[[110, 0, 60, 0], [-15, -215, 80, 20], [-75, 0, 25, 0], [-30, 75, 60, -25], [0, 140, 10, -15], [80, 0, 60, 0], [0, -190, 185, -20], [-30, -70, 25, -25], [-45, 0, 25, 0], [-10, 155, 10, 15], [110, 0, 60, 0], [0, -190, 100, -15], [-30, -70, 20, -25], [-75, 0, 60, 0], [-15, 155, 10, 20], [-120, 0, 60, 0], [-120, -215, 80, 20], [-45, 0, 25, 0], [-30, 75, 60, -25], [0, 140, 10, -15]]\n",
      "[[95, 0, 50, 0], [20, -130, 60, 10], [-75, 0, 40, 0], [-30, 70, 60, -25], [0, 80, 5, -5], [0, 0, 60, 0], [0, -95, 50, -5], [-30, -90, 25, -30], [-45, 0, 25, 0], [10, 105, 10, 15], [85, 0, 50, 0], [0, -45, 50, -5], [-30, -90, 25, -30], [-75, 0, 25, 0], [15, 105, 10, 15], [85, 0, 45, 0], [20, -100, 60, 10], [-45, 0, 25, 0], [-30, 70, 60, -25], [0, 90, 5, -10]]\n",
      "[[-120, 0, 60, 0], [15, -190, 185, 20], [-75, 0, 25, 0], [-30, 75, 60, -25], [0, 135, 10, -15], [-120, 0, 30, 0], [0, -145, 80, -10], [-30, -70, 25, -25], [-45, 0, 25, 0], [0, 105, 10, 15], [75, 0, 35, 0], [0, -145, 100, -15], [-30, -70, 20, -25], [-75, 0, 70, 0], [0, 155, 10, 15], [-120, 0, 60, 0], [15, -210, 205, 20], [-45, 0, 25, 0], [-30, 75, 60, -25], [0, 140, 10, -10]]\n",
      "[[105, 0, 50, 0], [10, -100, 60, 0], [-75, 0, 40, 0], [10, 75, 55, 0], [0, 80, 50, 0], [15, -100, 50, 0], [0, -95, 50, 0], [5, -90, 25, -30], [-45, 0, 25, 0], [10, -130, 25, 0], [50, 0, 50, 0], [0, -45, 50, 0], [5, -90, 25, -35], [-75, 0, 40, 0], [10, 105, 25, 10], [95, 0, 50, 0], [10, -100, 60, 10], [-45, 0, 25, 0], [10, -95, 25, -25], [0, 45, 50, 0]]\n",
      "[[105, 0, 50, 0], [20, -130, 110, 15], [-75, 0, 40, 0], [-30, 75, 60, -25], [0, 90, 5, -10], [15, 0, 45, 0], [0, -100, 60, -10], [-30, -85, 25, -25], [-45, 0, 25, 0], [10, -130, 20, 10], [90, 0, 50, 0], [0, -100, 80, -10], [-30, -85, 25, -30], [-75, 0, 40, 0], [20, -160, 20, 15], [95, 0, 50, 0], [20, -130, 115, 15], [-45, 0, 25, 0], [-30, 70, 60, -25], [0, 95, 5, -5]]\n",
      "[[110, 0, 60, 0], [0, -215, 210, 20], [-75, 0, 25, 0], [-30, 75, 60, -25], [0, 140, 10, -15], [75, 0, 35, 0], [0, -190, 100, -20], [-30, 0, 20, -25], [-45, 0, 25, 0], [0, 185, 10, 15], [105, 0, 60, 0], [0, -190, 100, -15], [-30, 0, 20, -25], [-75, 0, 60, 0], [0, 185, 10, 20], [-120, 0, 60, 0], [0, -215, 210, 25], [-45, 0, 25, 0], [-30, 75, 60, -25], [0, 140, 10, -15]]\n",
      "[[95, 0, 50, 0], [20, -145, 140, 15], [-75, 0, 40, 0], [-30, 75, 60, -25], [0, 95, 5, -10], [50, 0, 35, 0], [0, -100, 80, -10], [-30, -70, 25, -25], [-45, 0, 25, 0], [20, 105, 10, 15], [85, 0, 45, 0], [0, -100, 80, -10], [-30, -70, 20, -25], [-75, 0, 25, 0], [20, 105, 10, 15], [80, 0, 45, 0], [20, -145, 140, 15], [-45, 0, 25, 0], [-30, 70, 60, -25], [0, 105, 5, -10]]\n",
      "[[95, 0, 50, 0], [10, -100, 60, 10], [-75, 0, 40, 0], [-30, 70, 60, -25], [0, 95, 5, -10], [0, 0, 60, 0], [0, -95, 50, -10], [-30, -70, 25, -25], [-45, 0, 25, 0], [10, 105, 10, 10], [50, 0, 60, 0], [0, -95, 85, -10], [-30, -70, 20, -25], [-75, 0, 25, 0], [20, 105, 10, 15], [15, 0, 45, 0], [10, -100, 60, 10], [-45, 0, 25, 0], [-30, 70, 60, -25], [0, 105, 5, -10]]\n",
      "[[95, 0, 50, 0], [20, -130, 105, 15], [-75, 0, 40, 0], [-30, 70, 60, -25], [0, 90, 5, -10], [0, 0, 60, 0], [0, -95, 50, -10], [-30, -75, 25, -25], [-45, 0, 25, 0], [10, 105, 10, 15], [85, 0, 45, 0], [0, -95, 50, -5], [-30, -85, 25, -30], [-75, 0, 25, 0], [20, 105, 10, 15], [80, 0, 45, 0], [20, -130, 60, 10], [-45, 0, 25, 0], [-30, 70, 60, -25], [0, 90, 5, -10]]\n",
      "[[105, 0, 60, 0], [0, -210, 170, 20], [-75, 0, 25, 0], [-30, 75, 60, -25], [0, 140, 10, -15], [75, 0, 35, 0], [0, -160, 150, -15], [-30, 0, 20, -25], [-45, 0, 25, 0], [0, 185, 10, 10], [95, 0, 50, 0], [0, -150, 150, -15], [-30, 0, 20, -25], [-75, 0, 60, 0], [0, 185, 10, 15], [75, 0, 35, 0], [0, -210, 205, 20], [-45, 0, 25, 0], [-30, 75, 60, -25], [0, 155, 10, -15]]\n",
      "[[95, 0, 50, 0], [20, -160, 150, 15], [-75, 0, 25, 0], [-30, 75, 60, -25], [0, 105, 5, -10], [50, 0, 35, 0], [0, -120, 120, -10], [-30, -70, 20, -25], [-45, 0, 25, 0], [0, 190, 10, 10], [90, 0, 45, 0], [0, -120, 105, -10], [-30, -70, 20, -25], [-75, 0, 25, 0], [20, 180, 10, 15], [75, 0, 35, 0], [20, -160, 160, 15], [-45, 0, 25, 0], [-30, 70, 60, -25], [0, 105, 5, -10]]\n",
      "[[110, 0, 60, 0], [-15, -190, 175, 20], [-75, 0, 40, 0], [-30, 75, 60, -25], [0, 140, 10, -10], [95, 0, 45, 0], [0, -145, 140, -15], [-30, -70, 20, -25], [-45, 0, 25, 0], [-25, 185, 20, 15], [105, 0, 60, 0], [0, -145, 105, -15], [-30, -70, 20, -25], [-75, 0, 25, 0], [-25, 185, 20, 20], [95, 0, 50, 0], [-15, -190, 175, 20], [-45, 0, 25, 0], [-30, 75, 60, -25], [0, 140, 10, -15]]\n",
      "[[95, 0, 50, 0], [20, -160, 150, 15], [-75, 0, 25, 0], [-30, 75, 60, -25], [0, 110, 5, -10], [65, 0, 35, 0], [0, -110, 80, -10], [-30, -85, 25, -25], [-45, 0, 25, 0], [20, 105, 10, 15], [85, 0, 45, 0], [0, -120, 80, -10], [-30, -85, 25, -25], [-75, 0, 25, 0], [35, 140, 15, 15], [75, 0, 35, 0], [20, -160, 150, 15], [-45, 0, 25, 0], [-30, 75, 60, -25], [0, 120, 5, -10]]\n",
      "[[-120, 0, 60, 0], [0, -215, 210, 20], [-75, 0, 25, 0], [-30, 75, 60, -25], [0, 140, 10, -15], [-120, 0, 35, 0], [0, -175, 100, -15], [-30, 0, 25, -25], [-45, 0, 25, 0], [0, 170, 10, 15], [105, 0, 60, 0], [0, -175, 100, -15], [-30, -70, 20, -25], [-75, 0, 70, 0], [0, 155, 10, 15], [-120, 0, 60, 0], [0, -215, 210, 25], [-45, 0, 25, 0], [-30, 75, 60, -25], [0, 140, 10, -15]]\n",
      "[[80, 0, 35, 0], [20, -160, 150, 15], [-75, 0, 25, 0], [-30, 75, 60, -25], [0, 125, 5, -10], [-120, 0, 35, 0], [0, -120, 80, -10], [-30, -70, 25, -25], [-45, 0, 25, 0], [20, 105, 10, 15], [75, 0, 35, 0], [0, -120, 100, -10], [-30, -70, 20, -25], [-75, 0, 25, 0], [20, 105, 10, 15], [-120, 0, 35, 0], [15, -160, 150, 15], [-45, 0, 25, 0], [-30, 75, 60, -25], [0, 105, 5, -10]]\n",
      "[[80, 0, 45, 0], [15, -160, 150, 15], [-75, 0, 25, 0], [-30, 75, 60, -25], [0, 105, 5, -10], [45, 0, 35, 0], [0, -120, 100, -10], [-30, -70, 25, -25], [-45, 0, 25, 0], [20, 105, 10, 15], [75, 0, 35, 0], [0, -120, 105, -10], [-30, -70, 20, -25], [-75, 0, 60, 0], [20, 105, 10, 15], [-120, 0, 35, 0], [15, -160, 160, 15], [-45, 0, 25, 0], [-30, 75, 60, -25], [0, 105, 5, -10]]\n",
      "[[105, 0, 50, 0], [20, -145, 140, 15], [-75, 0, 40, 0], [-30, 75, 60, -25], [0, 90, 5, -10], [85, 0, 45, 0], [0, -120, 65, -10], [-30, -90, 25, -30], [-45, 0, 25, 0], [-15, 185, 20, 15], [105, 0, 50, 0], [0, -100, 80, -10], [-30, -90, 25, -30], [-120, 0, 25, 0], [-15, 155, 15, 15], [95, 0, 50, 0], [-10, -145, 140, 15], [-45, 0, 25, 0], [-30, 75, 60, -25], [0, 105, 5, -10]]\n",
      "[[105, 0, 50, 0], [20, -145, 140, 15], [-75, 0, 40, 0], [-30, 75, 60, -25], [0, 95, 5, -10], [85, 0, 45, 0], [0, -100, 80, -10], [-30, -90, 25, -25], [-45, 0, 25, 0], [20, 105, 20, 15], [95, 0, 50, 0], [0, -100, 80, -10], [-30, -90, 25, -30], [-75, 0, 25, 0], [20, 140, 15, 15], [85, 0, 45, 0], [20, -145, 140, 15], [-45, 0, 25, 0], [-30, 70, 60, -25], [0, 95, 5, -10]]\n",
      "[[-120, 0, 60, 0], [15, -180, 170, 20], [-75, 0, 25, 0], [-30, 75, 60, -25], [0, 135, 10, -10], [-120, 0, 30, 0], [0, -145, 80, -10], [-30, 0, 25, -25], [-45, 0, 25, 0], [0, 105, 10, 15], [75, 0, 35, 0], [0, -145, 100, -15], [-30, 0, 20, -25], [-75, 0, 70, 0], [0, 155, 10, 15], [-120, 0, 60, 0], [15, -180, 205, 20], [-45, 0, 25, 0], [-30, 75, 60, -25], [0, 105, 10, -10]]\n",
      "[[105, 0, 50, 0], [20, -145, 140, 15], [-75, 0, 40, 0], [-30, 75, 60, -25], [0, 95, 5, -10], [85, 0, 45, 0], [0, -120, 80, -10], [-30, -85, 25, -25], [-45, 0, 25, 0], [20, 185, 20, 15], [95, 0, 50, 0], [0, -120, 80, -10], [-30, -85, 25, -30], [-75, 0, 25, 0], [20, 155, 15, 15], [90, 0, 50, 0], [20, -150, 140, 15], [-45, 0, 25, 0], [-30, 70, 60, -25], [0, 105, 5, -10]]\n",
      "[[95, 0, 50, 0], [10, -100, 60, 10], [-75, 0, 40, 0], [-30, 70, 60, -25], [0, 80, 5, -5], [0, 0, 60, 0], [0, -95, 50, -5], [-30, -85, 25, -25], [-45, 0, 25, 0], [10, 105, 10, 15], [85, 0, 60, 0], [0, -45, 50, -5], [-30, -90, 25, -30], [-75, 0, 25, 0], [15, 105, 10, 15], [80, 0, 45, 0], [10, -100, 60, 10], [-45, 0, 25, 0], [-30, 70, 60, -25], [0, 90, 5, -10]]\n",
      "[[105, 0, 50, 0], [20, -130, 110, 15], [-75, 0, 40, 0], [-30, 75, 60, -25], [0, 95, 5, -10], [50, 0, 45, 0], [0, -100, 85, -10], [-30, -75, 25, -25], [-45, 0, 25, 0], [20, -130, 20, 10], [90, 0, 50, 0], [0, -100, 80, -10], [-30, -75, 25, -25], [-75, 0, 40, 0], [20, -160, 20, 15], [85, 0, 50, 0], [20, -130, 135, 15], [-45, 0, 25, 0], [-30, 70, 60, -25], [0, 105, 5, -10]]\n",
      "[[95, 0, 60, 0], [15, -190, 170, 20], [-75, 0, 25, 0], [-30, 75, 60, -25], [0, 105, 10, -10], [65, 0, 35, 0], [0, -145, 130, -15], [-30, 0, 20, -25], [-45, 0, 25, 0], [0, 190, 10, 10], [95, 0, 45, 0], [0, -145, 130, -15], [-30, -70, 20, -25], [-75, 0, 60, 0], [0, 180, 10, 15], [-120, 0, 35, 0], [15, -180, 170, 20], [-45, 0, 25, 0], [-30, 75, 60, -25], [0, 105, 10, -10]]\n",
      "[[-120, 0, 60, 0], [0, -215, 80, 20], [-75, 0, 25, 0], [-30, 75, 60, -25], [0, 140, 10, -15], [-120, 0, 35, 0], [0, -175, 95, -15], [-30, -70, 25, -25], [-45, 0, 25, 0], [0, 170, 10, 15], [105, 0, 60, 0], [0, -175, 100, -15], [-30, -70, 20, -25], [-75, 0, 60, 0], [0, 155, 10, 15], [-120, 0, 60, 0], [0, -215, 80, 20], [-45, 0, 25, 0], [-30, 75, 60, -25], [0, 140, 10, -15]]\n",
      "[[105, 0, 55, 0], [20, -105, 115, 10], [-75, 0, 40, 0], [10, 75, 60, -30], [0, 80, 50, 0], [15, 0, 45, 0], [0, -35, 50, 0], [-30, -100, 25, -35], [-45, 0, 25, 0], [10, 120, 20, 10], [95, 0, 50, 0], [0, -45, 50, 0], [-30, -100, 25, -35], [-75, 0, 40, 0], [15, 120, 15, 15], [105, 0, 50, 0], [20, -115, 115, 10], [-45, 0, 25, 0], [-30, -95, 60, -25], [0, 45, 45, 0]]\n",
      "[[105, 0, 60, 0], [0, -190, 170, 20], [-75, 0, 40, 0], [-30, 75, 60, 0], [0, 105, 10, -10], [85, 0, 45, 0], [0, -145, 140, -10], [-30, -70, 20, -25], [-45, 0, 25, 0], [-15, 210, 10, 15], [105, 0, 60, 0], [0, -135, 110, -10], [-30, -70, 20, -25], [-75, 0, 25, 0], [-15, 185, 20, 20], [95, 0, 50, 0], [0, -190, 170, 20], [-45, 0, 25, 0], [-30, 75, 60, -25], [0, 105, 10, -10]]\n",
      "[[95, 0, 50, 0], [20, -130, 110, 15], [-75, 0, 40, 0], [-30, 70, 60, -25], [0, 90, 5, -10], [0, 0, 60, 0], [0, -95, 50, -10], [-30, -75, 25, -25], [-45, 0, 25, 0], [10, 105, 10, 10], [85, 0, 50, 0], [0, -95, 50, -5], [-30, -90, 25, -30], [-75, 0, 25, 0], [20, 105, 10, 15], [85, 0, 45, 0], [20, -130, 60, 10], [-45, 0, 25, 0], [-30, 70, 60, -25], [0, 90, 5, -10]]\n",
      "[[105, 0, 50, 0], [5, -100, 60, 0], [-75, 0, 40, 0], [10, 75, 60, -30], [0, 80, 50, 0], [15, -100, 50, 0], [0, -30, 50, 0], [5, -100, 25, -35], [-45, -70, 25, 0], [10, 0, 25, 0], [15, -100, 50, 0], [0, -45, 50, 0], [5, -100, 25, -35], [-75, 0, 40, 0], [10, 105, 20, 10], [105, 0, 50, 0], [5, -100, 60, -30], [-45, 0, 25, 0], [10, -95, 60, -25], [0, 45, 45, 0]]\n",
      "[[85, 0, 45, 0], [10, -130, 60, 10], [-75, 0, 40, 0], [-30, 70, 60, -25], [0, 95, 5, -10], [0, 0, 60, 0], [0, -95, 60, -10], [-30, -70, 25, -25], [-45, 0, 25, 0], [20, 105, 10, 10], [50, 0, 45, 0], [0, -100, 85, -10], [-30, -70, 20, -25], [-75, 0, 25, 0], [20, 105, 10, 15], [15, 0, 35, 0], [10, -100, 60, 10], [-45, 0, 25, 0], [-30, 70, 60, -25], [0, 95, 5, -10]]\n",
      "[[110, 0, 60, 0], [0, -215, 80, 20], [-75, 0, 25, 0], [-30, 75, 60, -25], [0, 140, 10, -15], [80, 0, 35, 0], [0, -190, 185, -20], [-30, 0, 20, -25], [-45, 0, 25, 0], [0, 170, 10, 15], [105, 0, 60, 0], [0, -190, 100, -15], [-30, -70, 20, -25], [-75, 0, 60, 0], [0, 185, 10, 20], [-120, 0, 60, 0], [0, -215, 210, 25], [-45, 0, 25, 0], [-30, 75, 60, -25], [0, 140, 10, -15]]\n",
      "[[-120, 0, 60, 0], [0, -210, 210, 20], [-75, 0, 75, 0], [-30, 75, 60, -25], [0, 140, 10, -15], [-120, 0, 35, 0], [0, -175, 100, -15], [-30, 0, 25, -25], [-45, 0, 25, 0], [0, 185, 10, 10], [80, 0, 60, 0], [0, -175, 100, -15], [-30, 0, 20, -25], [-75, 0, 70, 0], [0, 155, 10, 15], [-120, 0, 60, 0], [0, -210, 205, 25], [-45, 0, 25, 0], [-30, 75, 60, -25], [0, 140, 10, -15]]\n",
      "[[-120, 0, 60, 0], [0, -210, 210, 20], [-75, 0, 25, 0], [-30, 75, 60, -25], [0, 140, 10, -15], [-120, 0, 35, 0], [0, -175, 100, -15], [-30, 0, 25, -25], [-45, 0, 25, 0], [0, 185, 10, 10], [95, 0, 60, 0], [0, -175, 100, -15], [-30, 0, 20, -25], [-75, 0, 60, 0], [0, 155, 10, 15], [-120, 0, 60, 0], [0, -210, 205, 20], [-45, 0, 25, 0], [-30, 75, 60, -25], [0, 140, 10, -15]]\n",
      "[[-120, 0, 60, 0], [15, -210, 205, 20], [-75, 0, 75, 0], [-30, 75, 60, -25], [0, 105, 10, -10], [-120, 0, 30, 0], [0, -160, 95, -15], [-30, 0, 25, -25], [-45, 0, 25, 0], [0, 105, 10, -10], [75, 0, 35, 0], [0, -160, 100, -15], [-30, 0, 25, -25], [-75, 0, 70, 0], [0, 155, 10, 15], [-120, 0, 60, 0], [15, -210, 205, 25], [-45, 0, 25, 0], [-30, 75, 60, -25], [0, 105, 10, -10]]\n",
      "[[105, 0, 55, 0], [20, -145, 140, 15], [-75, 0, 40, 0], [-30, 75, 60, -25], [0, 90, 5, -10], [85, 0, 45, 0], [0, -100, 60, -10], [-30, -90, 25, -30], [-45, 0, 25, 0], [-15, 120, 15, 15], [105, 0, 50, 0], [0, -100, 80, -10], [-30, -90, 25, -35], [-75, 0, 40, 0], [-15, 140, 15, 15], [95, 0, 50, 0], [20, -145, 140, 15], [-45, 0, 25, 0], [-30, 75, 60, -25], [0, 95, 5, -10]]\n",
      "[[105, 0, 50, 0], [20, -130, 115, 15], [-75, 0, 40, 0], [-30, 75, 60, -25], [0, 90, 5, -10], [85, 0, 45, 0], [0, -100, 60, -10], [-30, -90, 25, -30], [-45, 0, 25, 0], [20, 105, 20, 15], [95, 0, 50, 0], [0, -100, 80, -10], [-30, -90, 25, -30], [-75, 0, 40, 0], [20, 140, 15, 15], [95, 0, 50, 0], [20, -130, 135, 15], [-45, 0, 25, 0], [-30, 70, 60, -25], [0, 95, 5, -10]]\n",
      "[[105, 0, 50, 0], [15, -160, 150, 15], [-75, 0, 40, 0], [-30, 75, 60, -25], [0, 105, 5, -10], [80, 0, 45, 0], [0, -130, 130, -10], [-30, -70, 20, -25], [-45, 0, 25, 0], [0, 185, 10, 15], [95, 0, 50, 0], [0, -120, 105, -10], [-30, -70, 20, -25], [-75, 0, 25, 0], [0, 185, 10, 15], [85, 0, 45, 0], [5, -160, 160, 15], [-45, 0, 25, 0], [-30, 70, 60, -25], [0, 105, 10, -10]]\n",
      "[[105, 0, 50, 0], [20, -160, 150, 15], [-75, 0, 40, 0], [-30, 75, 60, -25], [0, 95, 5, -10], [75, 0, 35, 0], [0, -110, 80, -10], [-30, -90, 25, -30], [-45, 0, 25, 0], [10, 120, 20, 15], [95, 0, 50, 0], [0, -120, 80, -10], [-30, -90, 25, -30], [-75, 0, 25, 0], [10, 140, 15, 15], [85, 0, 45, 0], [20, -160, 150, 15], [-45, 0, 25, 0], [-30, 75, 60, -25], [0, 110, 5, -10]]\n",
      "[[95, 0, 50, 0], [10, -100, 60, 10], [-75, 0, 40, 0], [-30, 70, 60, -25], [0, 90, 50, -5], [0, 0, 60, 0], [0, -95, 50, -10], [-30, -75, 25, -25], [-45, 0, 25, 0], [10, 105, 10, 10], [50, 0, 60, 0], [0, -95, 50, -5], [-30, -75, 25, -25], [-75, 0, 25, 0], [20, 105, 10, 15], [15, 0, 45, 0], [10, -100, 60, 10], [-45, 0, 25, 0], [-30, 70, 60, -25], [0, 90, 5, -5]]\n",
      "[[105, 0, 50, 0], [5, -105, 60, -30], [-75, 0, 40, 0], [10, 75, 60, -30], [0, 80, 50, 0], [15, -100, 50, 0], [0, -100, 50, 0], [5, -100, 25, -35], [-45, -70, 25, 0], [-5, 0, 60, 10], [95, -100, 50, 0], [0, -45, 50, 0], [5, -100, 25, -35], [-75, 0, 40, 0], [20, 120, 15, 10], [105, 0, 50, 0], [5, -100, 60, 10], [-45, 0, 25, 0], [10, -95, 60, -25], [0, 45, 45, 0]]\n",
      "[[105, 0, 60, 0], [15, -190, 80, 20], [-75, 0, 25, 0], [-30, 75, 60, -25], [0, 135, 10, -10], [65, 0, 35, 0], [0, -145, 100, -15], [-30, -70, 25, -25], [-45, 0, 25, 0], [0, 170, 10, 15], [95, 0, 60, 0], [0, -145, 130, -15], [-30, -70, 20, -25], [-75, 0, 60, 0], [0, 140, 10, 15], [-120, 0, 35, 0], [15, -190, 80, 20], [-45, 0, 25, 0], [-30, 75, 60, -25], [0, 135, 10, -10]]\n",
      "[[-120, 0, 60, 0], [0, -215, 210, 20], [-75, 0, 25, 0], [-30, 75, 60, -25], [0, 140, 10, -15], [-120, 0, 35, 0], [0, -175, 100, -15], [-30, 0, 25, -25], [-45, 0, 25, 0], [0, 170, 10, 15], [95, 0, 60, 0], [0, -175, 100, -15], [-30, -70, 20, -25], [-75, 0, 60, 0], [0, 155, 10, 15], [-120, 0, 60, 0], [0, -210, 210, 25], [-45, 0, 25, 0], [-30, 75, 60, -25], [0, 140, 10, -15]]\n",
      "[[110, 0, 60, 0], [-15, -215, 195, 20], [-75, 0, 25, 0], [-30, 75, 60, -25], [0, 140, 10, -15], [85, 0, 45, 0], [0, -175, 170, -15], [-30, -70, 20, -25], [-45, 0, 25, 0], [-15, 185, 10, 15], [105, 0, 60, 0], [0, -175, 150, -15], [-30, -70, 20, -25], [-75, 0, 60, 0], [-15, 185, 20, 20], [80, 0, 60, 0], [-15, -215, 195, 20], [-45, 0, 25, 0], [-30, 75, 60, -25], [0, 140, 10, -15]]\n",
      "[[95, 0, 50, 0], [10, -100, 60, 10], [-75, 0, 40, 0], [-30, 70, 55, -25], [0, 90, 50, -5], [15, 0, 60, 0], [0, -95, 50, 0], [-30, -75, 25, -25], [-45, 0, 25, 0], [10, 105, 65, 10], [50, 0, 50, 0], [0, -95, 50, -5], [-30, -90, 25, -30], [-75, 0, 40, 0], [20, 105, 10, 15], [85, 0, 50, 0], [10, -100, 60, 10], [-45, 0, 25, 0], [-30, -95, 60, -25], [0, 90, 50, -5]]\n",
      "[[105, 0, 50, 0], [5, -100, 60, 0], [-75, 0, 40, 0], [10, 75, 55, -30], [0, 80, 50, 0], [15, -100, 50, 0], [0, -75, 50, 0], [5, -100, 30, -35], [-45, 0, 25, 0], [10, 105, 60, 0], [15, -100, 50, 0], [0, -30, 50, 0], [5, -100, 25, -35], [-75, 0, 40, 0], [10, 105, 65, 10], [95, 0, 50, 0], [5, -100, 60, 0], [-45, -70, 25, 0], [10, -95, 25, -25], [0, 45, 50, 0]]\n",
      "[[80, 0, 60, 0], [15, -190, 170, 20], [-75, 0, 25, 0], [-30, 75, 60, -25], [0, 125, 10, -10], [-120, 0, 35, 0], [0, -145, 80, -10], [-30, -70, 25, -25], [-45, 0, 25, 0], [0, 105, 10, 15], [80, 0, 60, 0], [0, -145, 130, -15], [-30, -70, 20, -25], [-75, 0, 60, 0], [10, 140, 10, 15], [-120, 0, 35, 0], [15, -190, 185, 20], [-45, 0, 25, 0], [-30, 75, 60, -25], [0, 135, 10, -10]]\n",
      "[[105, 0, 50, 0], [20, -130, 115, 15], [-75, 0, 40, 0], [10, 75, 60, 0], [0, 90, 60, -5], [15, 0, 45, 0], [0, -100, 60, 0], [-30, -90, 25, -30], [-45, 0, 25, 0], [20, -130, 20, 10], [95, 0, 50, 0], [0, -100, 50, -5], [5, -90, 25, -30], [-75, 0, 40, 0], [35, 140, 15, 15], [95, 0, 50, 0], [20, -130, 115, 15], [-45, 0, 25, 0], [10, 70, 60, -25], [0, 45, 50, -5]]\n",
      "[[110, 0, 60, 0], [-15, -215, 195, 20], [-75, 0, 25, 0], [-30, 75, 60, -25], [0, 140, 10, -15], [80, 0, 45, 0], [0, -175, 170, -15], [-30, -70, 20, -25], [-45, 0, 25, 0], [0, 185, 10, 15], [105, 0, 60, 0], [0, -175, 150, -15], [-30, -70, 20, -25], [-75, 0, 60, 0], [0, 185, 10, 20], [-120, 0, 60, 0], [-15, -215, 195, 20], [-45, 0, 25, 0], [-30, 75, 60, -25], [0, 140, 10, -15]]\n",
      "[[105, 0, 60, 0], [5, -190, 170, 20], [-75, 0, 25, 0], [-30, 75, 60, -25], [0, 140, 10, -15], [75, 0, 35, 0], [0, -145, 130, -15], [-30, -70, 20, -25], [-45, 0, 25, 0], [0, 185, 10, 15], [95, 0, 50, 0], [0, -145, 130, -15], [-30, -70, 20, -25], [-75, 0, 60, 0], [0, 185, 10, 15], [75, 0, 35, 0], [15, -190, 170, 20], [-45, 0, 25, 0], [-30, 75, 60, -25], [0, 140, 10, -15]]\n",
      "[[105, 0, 60, 0], [5, -160, 150, 20], [-75, 0, 40, 0], [-30, 75, 60, -25], [0, 105, 5, -10], [85, 0, 45, 0], [0, -130, 105, -10], [-30, -70, 20, -25], [-45, 0, 25, 0], [-15, 195, 20, 15], [105, 0, 50, 0], [0, -130, 105, -10], [-30, -70, 20, -25], [-75, 0, 25, 0], [0, 185, 20, 20], [95, 0, 50, 0], [0, -160, 160, 20], [-45, 0, 25, 0], [-30, 75, 60, -25], [0, 105, 10, -10]]\n",
      "[[125, 0, 60, 0], [-15, -220, 80, 20], [-75, 0, 25, 0], [-30, 75, 60, -25], [0, 140, 10, -15], [105, 0, 55, 0], [0, -190, 210, -20], [-30, -70, 20, -25], [-45, 0, 25, 0], [-25, 170, 10, 15], [110, 0, 60, 0], [0, -190, 185, -20], [-30, -70, 20, -25], [-75, 0, 60, 0], [-15, 185, 20, 20], [-120, 0, 60, 0], [-120, -220, 80, 20], [-45, 0, 25, 0], [-30, 75, 60, -25], [0, 140, 10, -15]]\n",
      "[[110, 0, 60, 0], [0, -215, 195, 20], [-75, 0, 25, 0], [-30, 75, 60, -25], [0, 140, 10, -15], [75, 0, 35, 0], [0, -175, 100, -15], [-30, 0, 20, -25], [-45, 0, 25, 0], [0, 185, 10, 15], [105, 0, 50, 0], [0, -175, 150, -15], [-30, 0, 20, -25], [-75, 0, 60, 0], [0, 185, 10, 15], [-120, 0, 35, 0], [0, -215, 205, 20], [-45, 0, 25, 0], [-30, 75, 60, -25], [0, 140, 10, -15]]\n",
      "[[105, 0, 55, 0], [5, -100, 60, -30], [-75, 0, 40, 0], [10, 75, 60, -30], [0, 80, 50, 0], [15, -100, 50, 0], [0, -30, 50, 0], [5, -100, 25, -35], [-45, 0, 25, 0], [10, 0, 65, 10], [95, 0, 50, 0], [0, -45, 50, 0], [5, -100, 25, -35], [-75, 0, 40, 0], [15, 120, 15, 10], [105, 0, 50, 0], [5, -100, 60, 10], [-45, 0, 25, 0], [10, -95, 25, -25], [0, 45, 45, 0]]\n",
      "[[105, 0, 50, 0], [5, -100, 60, 0], [-75, 0, 40, 0], [10, -100, 25, -30], [0, 80, 50, 0], [0, 0, 60, 0], [0, -45, 50, 0], [5, -100, 30, -35], [-45, 0, 25, 0], [10, 105, 60, 0], [15, 0, 60, 0], [0, -45, 50, 0], [5, -100, 30, -35], [-75, 0, 40, 0], [10, 0, 65, 0], [95, 0, 50, 0], [5, -100, 60, 0], [-45, -60, 25, 0], [-30, -95, 25, -25], [0, 45, 50, 0]]\n",
      "[[105, 0, 55, 0], [20, -150, 140, 15], [-75, 0, 40, 0], [-30, 75, 60, -25], [0, 95, 5, -10], [85, 0, 45, 0], [0, -120, 80, -10], [-30, -90, 25, -30], [-45, 0, 25, 0], [-15, 170, 20, 15], [105, 0, 50, 0], [0, -120, 80, -10], [-30, -90, 25, -30], [-75, 0, 25, 0], [-15, 150, 15, 15], [95, 0, 50, 0], [20, -150, 140, 15], [-45, 0, 25, 0], [-30, 75, 60, -25], [0, 105, 5, -10]]\n",
      "[[195, 0, 90, 30], [-10, -145, 75, 0], [-15, -45, 25, 0], [-120, 0, 60, -10], [-15, 45, 25, 0], [5, 180, 90, 0], [195, 0, 90, 30], [-10, -145, 75, 0], [-15, -45, 25, 0], [-120, 0, 60, -10], [-15, 45, 25, 0], [5, 180, 90, 0]]\n",
      "[[195, 0, 105, 30], [-30, -120, 50, 0], [-15, -45, 25, 0], [-120, 0, 60, -10], [-15, 45, 25, 0], [5, 165, 50, 0], [195, 0, 95, -5], [-30, -120, 50, 0], [-15, -45, 25, 0], [-120, 0, 60, -10], [-15, 45, 25, 0], [5, 165, 50, 0]]\n",
      "[[335, 0, 165, -15], [-105, -215, 120, 0], [-15, -45, 25, 0], [-120, 0, 60, -10], [-15, 45, 25, 0], [-85, 155, 90, 0], [350, 0, 165, -90], [-105, -215, 120, 0], [-15, -45, 25, 0], [-120, 0, 60, -10], [-15, 45, 25, 0], [-85, 155, 90, 0]]\n",
      "[[285, 0, 140, -30], [-45, -75, 50, 0], [-15, -45, 25, 0], [-120, 0, 60, -10], [-15, 45, 25, 0], [-25, 140, 50, 0], [285, 0, 140, -30], [-45, -75, 50, 0], [-15, -45, 25, 0], [-120, 0, 60, -10], [-15, 45, 25, 0], [-25, 140, 50, 0]]\n",
      "[[285, 0, 165, 120], [-75, -220, 120, 0], [-15, -45, 25, 0], [-120, 0, 60, -10], [-15, 45, 25, 0], [-75, 155, 90, 0], [285, 0, 165, -55], [-75, -220, 120, 0], [-15, -45, 25, 0], [-120, 0, 60, -10], [-15, 45, 25, 0], [-75, 155, 90, 0]]\n",
      "[[335, 0, 180, 105], [-75, -220, 120, 0], [-15, -45, 25, 0], [-120, 0, 60, -10], [-15, 45, 25, 0], [-75, 155, 80, 0], [325, 0, 165, -55], [-75, -220, 120, 0], [-15, -45, 25, 0], [-120, 0, 60, -10], [-15, 45, 25, 0], [-75, 155, 80, 0]]\n",
      "[[270, 0, 135, 120], [-50, -190, 100, 0], [-15, -45, 25, 0], [-120, 0, 60, -10], [-15, 45, 25, 0], [-40, 165, 90, 0], [270, 0, 135, 120], [-50, -190, 100, 0], [-15, -45, 25, 0], [-120, 0, 60, -10], [-15, 45, 25, 0], [-40, 165, 90, 0]]\n",
      "[[300, 0, 150, -30], [-75, -75, 55, 0], [-15, -45, 25, 0], [-120, 0, 60, -10], [-15, 45, 25, 0], [-45, 140, 75, 0], [300, 0, 150, -30], [-60, -75, 55, 0], [-15, -45, 25, 0], [-120, 0, 60, -10], [-15, 45, 25, 0], [-45, 140, 75, 0]]\n",
      "[[325, 0, 165, -30], [-75, -75, 60, 0], [-15, -45, 25, 0], [-120, 0, 60, -10], [-15, 45, 25, 0], [-85, 135, 75, 0], [325, 0, 155, 95], [-75, -75, 60, 0], [-15, -45, 25, 0], [-120, 0, 60, -10], [-15, 45, 25, 0], [-85, 135, 75, 0]]\n",
      "[[195, 0, 90, 30], [10, -120, 50, 0], [-15, -45, 25, 0], [-120, 0, 60, -10], [-15, 45, 25, 0], [10, 165, 50, 0], [195, 0, 90, 75], [-10, -120, 50, 0], [-15, -45, 25, 0], [-120, 0, 60, -10], [-15, 45, 25, 0], [10, 165, 50, 0]]\n",
      "[[245, 0, 110, -30], [-40, -90, 50, 0], [-15, -45, 25, 0], [-120, 0, 60, -10], [-15, 45, 25, 0], [-25, 140, 50, 0], [245, 0, 120, -110], [-30, -85, 50, 0], [-15, -45, 25, 0], [-120, 0, 60, -10], [-15, 45, 25, 0], [-25, 140, 50, 0]]\n",
      "[[225, 0, 110, 25], [-30, -210, 95, 0], [-15, -45, 25, 0], [-120, 0, 60, -10], [-15, 45, 25, 0], [-30, 165, 90, 0], [225, 0, 110, 25], [-30, -210, 95, 0], [-15, -45, 25, 0], [-120, 0, 60, -10], [-15, 45, 25, 0], [-30, 165, 90, 0]]\n",
      "[[-70, -100, 85, -35], [-30, -30, 50, 0], [-15, -45, 25, 0], [-120, 0, 60, -10], [-15, 45, 25, 0], [0, 80, 50, 0], [45, -100, 85, 0], [-30, -30, 50, 0], [-15, -45, 25, 0], [-120, 0, 60, -10], [-15, 45, 25, 0], [0, 80, 50, 0]]\n",
      "[[-120, 0, 185, -55], [-75, -220, 120, 0], [-15, -45, 40, 0], [-120, 0, 60, -10], [-15, 45, 25, 0], [-75, 135, 80, 0], [-120, 0, 185, -55], [-75, -220, 120, 0], [-15, -45, 40, 0], [-120, 0, 60, -10], [-15, 45, 25, 0], [-75, 135, 80, 0]]\n",
      "[[245, 0, 115, 30], [-40, -75, 50, 0], [-15, -45, 25, 0], [-120, 0, 60, -10], [-15, 45, 25, 0], [-25, 120, 50, 0], [245, 0, 125, -30], [-40, -75, 50, 0], [-15, -45, 25, 0], [-120, 0, 60, -10], [-15, 45, 25, 0], [-25, 120, 50, 0]]\n",
      "[[335, 0, 185, 40], [-75, -215, 120, 0], [-15, -45, 25, 0], [-120, 0, 60, -10], [-15, 45, 25, 0], [-75, 135, 80, 0], [350, 0, 185, -55], [-75, -215, 120, 0], [-15, -45, 25, 0], [-120, 0, 60, -10], [-15, 45, 25, 0], [-75, 135, 80, 0]]\n",
      "[[285, 0, 140, -60], [-45, -115, 75, 0], [-15, -45, 25, 0], [-120, 0, 60, -10], [-15, 45, 25, 0], [-45, 150, 85, 0], [285, 0, 140, 55], [-45, -125, 75, 0], [-15, -45, 25, 0], [-120, 0, 60, -10], [-15, 45, 25, 0], [-45, 150, 85, 0]]\n",
      "[[165, 0, 85, 30], [10, -120, 50, 0], [-15, -45, 25, 0], [-120, 0, 20, -10], [-15, 45, 25, 0], [10, 100, 50, 0], [165, 0, 85, 0], [10, -120, 50, 0], [-15, -45, 25, 0], [-120, 0, 20, -10], [-15, 45, 25, 0], [10, 100, 50, 0]]\n",
      "[[350, 0, 185, -90], [-105, -190, 110, 0], [-15, -45, 25, 0], [-120, 0, 60, -10], [-15, 45, 25, 0], [-85, 135, 80, 0], [335, 0, 185, 105], [-105, -190, 110, 0], [-15, -45, 25, 0], [-120, 0, 60, -10], [-15, 45, 25, 0], [-85, 135, 80, 0]]\n",
      "[[235, 0, 110, 0], [-45, -210, 110, 0], [-15, -45, 25, 0], [-120, 0, 60, -10], [-15, 45, 25, 0], [-30, 165, 90, 0], [225, 0, 110, -70], [-45, -210, 110, 0], [-15, -45, 25, 0], [-120, 0, 60, -10], [-15, 45, 25, 0], [-30, 165, 90, 0]]\n",
      "[[-105, 0, 180, 40], [-75, -220, 120, 0], [-15, -45, 25, 0], [-120, 0, 60, -10], [-15, 45, 25, 0], [-75, 155, 80, 0], [-120, 0, 180, -15], [-75, -220, 120, 0], [-15, -45, 25, 0], [-120, 0, 60, -10], [-15, 45, 25, 0], [-75, 155, 80, 0]]\n",
      "[[195, 0, 95, 0], [-35, -225, 115, 0], [-15, -45, 25, 0], [-120, 0, 60, -10], [-15, 45, 25, 0], [-30, 165, 90, 0], [175, 0, 95, 80], [-35, -225, 115, 0], [-15, -45, 25, 0], [-120, 0, 60, -10], [-15, 45, 25, 0], [-30, 165, 90, 0]]\n",
      "[[225, 0, 110, 80], [-30, -180, 95, 0], [-15, -45, 25, 0], [-120, 0, 60, -10], [-15, 45, 25, 0], [-30, 165, 90, 0], [225, 0, 110, 55], [-30, -180, 95, 0], [-15, -45, 25, 0], [-120, 0, 60, -10], [-15, 45, 25, 0], [-30, 165, 90, 0]]\n",
      "[[335, 0, 165, 120], [-75, -220, 120, 0], [-15, -45, 25, 0], [-120, 0, 60, -10], [-15, 45, 25, 0], [-75, 155, 90, 0], [325, 0, 165, -90], [-75, -220, 120, 0], [-15, -45, 25, 0], [-120, 0, 60, -10], [-15, 45, 25, 0], [-75, 155, 90, 0]]\n",
      "[[170, 0, 85, 0], [0, -210, 110, 0], [-15, -45, 25, 0], [-120, 0, 60, -10], [-15, 45, 25, 0], [-30, 180, 90, 0], [165, 0, 80, 55], [0, -210, 110, 0], [-15, -45, 25, 0], [-120, 0, 60, -10], [-15, 45, 25, 0], [-30, 180, 90, 0]]\n",
      "[[325, 0, 165, -25], [-105, -175, 105, 0], [-15, -45, 25, 0], [-120, 0, 60, -10], [-15, 45, 25, 0], [-85, 155, 90, 0], [325, 0, 165, -90], [-105, -175, 105, 0], [-15, -45, 25, 0], [-120, 0, 60, -10], [-15, 45, 25, 0], [-85, 155, 90, 0]]\n",
      "[[325, 0, 165, -30], [-85, -100, 70, 0], [-15, -45, 25, 0], [-120, 0, 60, -10], [-15, 45, 25, 0], [-85, 135, 85, 0], [335, 0, 165, 45], [-85, -100, 70, 0], [-15, -45, 25, 0], [-120, 0, 60, -10], [-15, 45, 25, 0], [-85, 135, 85, 0]]\n",
      "[[20, -90, 25, 0], [-45, -60, 50, 0], [-15, -45, 25, 0], [-120, 0, 60, -10], [-15, 45, 25, 0], [-45, 105, 50, 0], [20, -60, 30, -30], [-45, -60, 45, 0], [-15, -45, 25, 0], [-120, 0, 60, -10], [-15, 45, 25, 0], [-45, 105, 50, 0]]\n",
      "[[325, 0, 165, -90], [-75, -100, 70, 0], [-15, -45, 25, 0], [-120, 0, 60, -10], [-15, 45, 25, 0], [-85, 135, 85, 0], [325, 0, 165, -125], [-75, -100, 70, 0], [-15, -45, 25, 0], [-120, 0, 60, -10], [-15, 45, 25, 0], [-85, 135, 85, 0]]\n",
      "[[210, 0, 105, 35], [-35, -210, 110, 0], [-15, -45, 25, 0], [-120, 0, 60, -10], [-15, 45, 25, 0], [-30, 165, 90, 0], [195, 0, 105, -20], [-35, -210, 110, 0], [-15, -45, 25, 0], [-120, 0, 60, -10], [-15, 45, 25, 0], [-30, 165, 90, 0]]\n",
      "[[245, 0, 125, -70], [-55, -220, 110, 0], [-15, -45, 25, 0], [-120, 0, 60, -10], [-15, 45, 25, 0], [-25, 165, 90, 0], [245, 0, 125, -95], [-55, -220, 110, 0], [-15, -45, 25, 0], [-120, 0, 60, -10], [-15, 45, 25, 0], [-25, 165, 90, 0]]\n",
      "[[305, 0, 155, 50], [-75, -75, 60, 0], [-15, -45, 25, 0], [-120, 0, 60, -10], [-15, 45, 25, 0], [-85, 135, 75, 0], [305, 0, 155, -30], [-75, -75, 60, 0], [-15, -45, 25, 0], [-120, 0, 60, -10], [-15, 45, 25, 0], [-85, 135, 75, 0]]\n",
      "[[165, 0, 80, 35], [-55, -225, 115, 0], [-15, -45, 25, 0], [-120, 0, 60, -10], [-15, 45, 25, 0], [-15, 165, 80, 0], [175, 0, 80, 35], [-55, -225, 115, 0], [-15, -45, 25, 0], [-120, 0, 60, -10], [-15, 45, 25, 0], [-15, 165, 80, 0]]\n",
      "[[210, 0, 105, 30], [-30, -105, 50, 0], [-15, -45, 25, 0], [-120, 0, 60, -10], [-15, 45, 25, 0], [5, 165, 50, 0], [195, 0, 105, -40], [-30, -105, 50, 0], [-15, -45, 25, 0], [-120, 0, 60, -10], [-15, 45, 25, 0], [5, 165, 50, 0]]\n",
      "[[285, 0, 150, 95], [-75, -90, 70, 0], [-15, -45, 25, 0], [-120, 0, 60, -10], [-15, 45, 25, 0], [-45, 150, 85, 0], [285, 0, 150, -30], [-75, -105, 60, 0], [-15, -45, 25, 0], [-120, 0, 60, -10], [-15, 45, 25, 0], [-45, 150, 85, 0]]\n",
      "[[225, 0, 105, -40], [-30, -90, 50, 0], [-15, -45, 25, 0], [-120, 0, 60, -10], [-15, 45, 25, 0], [-10, 150, 50, 0], [210, 0, 110, 30], [-30, -90, 50, 0], [-15, -45, 25, 0], [-120, 0, 60, -10], [-15, 45, 25, 0], [-10, 150, 50, 0]]\n",
      "[[175, 0, 85, -35], [-30, -30, 50, 0], [-15, -45, 25, 0], [-120, 0, 60, -10], [-15, 45, 25, 0], [5, 90, 50, 0], [175, 0, 85, -35], [-30, -30, 50, 0], [-15, -45, 25, 0], [-120, 0, 60, -10], [-15, 45, 25, 0], [5, 90, 50, 0]]\n",
      "[[240, 0, 110, 35], [-40, -210, 110, 0], [-15, -45, 25, 0], [-120, 0, 60, -10], [-15, 45, 25, 0], [-30, 165, 90, 0], [240, 0, 120, -70], [-40, -210, 105, 0], [-15, -45, 25, 0], [-120, 0, 60, -10], [-15, 45, 25, 0], [-30, 165, 90, 0]]\n",
      "[[170, 0, 85, 0], [10, -120, 50, 0], [-15, -45, 25, 0], [-120, 0, 20, -10], [-15, 45, 25, 0], [10, 165, 50, 0], [165, 0, 85, 30], [10, -120, 50, 0], [-15, -45, 25, 0], [-120, 0, 20, -10], [-15, 45, 25, 0], [10, 165, 50, 0]]\n",
      "[[225, 0, 110, 30], [-30, -105, 50, 0], [-15, -45, 25, 0], [-120, 0, 60, -10], [-15, 45, 25, 0], [-30, 150, 50, 0], [225, 0, 110, -70], [-30, -105, 50, 0], [-15, -45, 25, 0], [-120, 0, 60, -10], [-15, 45, 25, 0], [-30, 150, 50, 0]]\n",
      "[[195, 0, 95, 80], [-30, -210, 95, 0], [-15, -45, 25, 0], [-120, 0, 60, -10], [-15, 45, 25, 0], [-30, 180, 90, 0], [195, 0, 95, 60], [-30, -210, 95, 0], [-15, -45, 25, 0], [-120, 0, 60, -10], [-15, 45, 25, 0], [-30, 180, 90, 0]]\n",
      "[[285, 0, 140, -115], [-45, -85, 60, 0], [-15, -45, 25, 0], [-120, 0, 60, -10], [-15, 45, 25, 0], [-45, 150, 75, 0], [285, 0, 140, 15], [-55, -90, 55, 0], [-15, -45, 25, 0], [-120, 0, 60, -10], [-15, 45, 25, 0], [-45, 150, 75, 0]]\n",
      "[[255, 0, 25, -30], [-40, -60, 50, 0], [-15, -45, 25, 0], [-120, 0, 60, -10], [-15, 45, 25, 0], [-25, 120, 50, 0], [260, -60, 125, -30], [-40, -60, 50, 0], [-15, -45, 25, 0], [-120, 0, 60, -10], [-15, 45, 25, 0], [-25, 120, 50, 0]]\n",
      "[[200, -100, 105, 0], [-30, -30, 50, 0], [-15, -45, 25, 0], [-120, 0, 60, -10], [-15, 45, 25, 0], [0, 90, 50, 0], [200, -100, 105, 0], [-30, -30, 50, 0], [-15, -45, 25, 0], [-120, 0, 60, -10], [-15, 45, 25, 0], [0, 90, 50, 0]]\n",
      "[[270, 0, 135, 120], [-45, -180, 100, 0], [-15, -45, 25, 0], [-120, 0, 60, -10], [-15, 45, 25, 0], [-40, 165, 90, 0], [270, 0, 135, 0], [-45, -180, 100, 0], [-15, -45, 25, 0], [-120, 0, 60, -10], [-15, 45, 25, 0], [-40, 165, 90, 0]]\n",
      "[[165, 0, 85, 0], [10, -100, 50, 0], [-15, -45, 25, 0], [-120, 0, 20, -10], [-15, 45, 25, 0], [10, 100, 50, 0], [165, 0, 85, 0], [10, -100, 50, 0], [-15, -45, 25, 0], [-120, 0, 20, -10], [-15, 45, 25, 0], [10, 100, 50, 0]]\n",
      "[[260, 0, 135, 55], [-50, -190, 105, 0], [-15, -45, 25, 0], [-120, 0, 60, -10], [-15, 45, 25, 0], [-40, 165, 90, 0], [265, 0, 135, 20], [-50, -190, 105, 0], [-15, -45, 25, 0], [-120, 0, 60, -10], [-15, 45, 25, 0], [-40, 165, 90, 0]]\n",
      "[[165, -100, 85, 0], [0, -30, 50, 0], [-15, -45, 25, 0], [-120, 0, 60, -10], [-15, 45, 25, 0], [5, 80, 50, 0], [165, -100, 85, -35], [0, -30, 50, 0], [-15, -45, 25, 0], [-120, 0, 60, -10], [-15, 45, 25, 0], [5, 80, 50, 0]]\n",
      "[[225, 0, 110, -15], [-30, -120, 50, 0], [-15, -45, 25, 0], [-120, 0, 60, -10], [-15, 45, 25, 0], [-30, 150, 85, 0], [225, 0, 110, 30], [-30, -120, 50, 0], [-15, -45, 25, 0], [-120, 0, 60, -10], [-15, 45, 25, 0], [-30, 150, 85, 0]]\n",
      "[[165, 0, 85, 0], [5, -30, 50, 0], [5, -45, 25, 0], [-120, 0, 40, -10], [-15, 45, 25, 0], [5, 80, 50, 0], [135, 0, 85, 0], [5, -30, 50, 0], [5, -45, 25, 0], [-120, 0, 40, -10], [-15, 45, 25, 0], [5, 80, 50, 0]]\n",
      "[[290, 0, 25, -30], [-45, -60, 50, 0], [-15, -45, 25, 0], [-120, 0, 60, -10], [-15, 45, 25, 0], [-45, 120, 50, 0], [290, 0, 25, 0], [-45, -60, 50, 0], [-15, -45, 25, 0], [-120, 0, 60, -10], [-15, 45, 25, 0], [-45, 120, 50, 0]]\n",
      "[[275, -60, 30, -30], [-45, -60, 45, 0], [-15, -45, 25, 0], [-120, 0, 60, -10], [-15, 45, 25, 0], [-45, 120, 50, 0], [290, -60, 30, -30], [-45, -60, 45, 0], [-15, -45, 25, 0], [-120, 0, 60, -10], [-15, 45, 25, 0], [-45, 120, 50, 0]]\n",
      "[[195, 0, 90, -35], [-30, -90, 50, 0], [-15, -45, 25, 0], [-120, 0, 60, -10], [-15, 45, 25, 0], [10, 100, 50, 0], [195, 0, 95, 30], [-30, -90, 50, 0], [-15, -45, 25, 0], [-120, 0, 60, -10], [-15, 45, 25, 0], [10, 100, 50, 0]]\n",
      "[[265, 0, 125, -30], [-40, -60, 50, 0], [-15, -45, 25, 0], [-120, 0, 60, -10], [-15, 45, 25, 0], [-25, 120, 50, 0], [275, -60, 125, -30], [-40, -60, 50, 0], [-15, -45, 25, 0], [-120, 0, 60, -10], [-15, 45, 25, 0], [-25, 120, 50, 0]]\n",
      "[[225, 0, 110, 30], [-30, -90, 50, 0], [-15, -45, 25, 0], [-120, 0, 60, -10], [-15, 45, 25, 0], [-30, 150, 50, 0], [225, 0, 110, 30], [-30, -90, 50, 0], [-15, -45, 25, 0], [-120, 0, 60, -10], [-15, 45, 25, 0], [-30, 150, 50, 0]]\n",
      "[[265, 0, 135, -30], [-40, -60, 50, 0], [-15, -45, 25, 0], [-120, 0, 60, -10], [-15, 45, 25, 0], [-25, 120, 50, 0], [265, 0, 135, -30], [-40, -60, 50, 0], [-15, -45, 25, 0], [-120, 0, 60, -10], [-15, 45, 25, 0], [-25, 120, 50, 0]]\n",
      "[[305, 0, 150, -110], [-85, -115, 75, 0], [-15, -45, 25, 0], [-120, 0, 60, -10], [-15, 45, 25, 0], [-85, 150, 85, 0], [300, 0, 150, -30], [-85, -115, 75, 0], [-15, -45, 25, 0], [-120, 0, 60, -10], [-15, 45, 25, 0], [-85, 150, 85, 0]]\n",
      "[[285, 0, 140, 60], [-45, -90, 55, 0], [-15, -45, 25, 0], [-120, 0, 60, -10], [-15, 45, 25, 0], [-25, 150, 75, 0], [285, 0, 140, 15], [-45, -90, 50, 0], [-15, -45, 25, 0], [-120, 0, 60, -10], [-15, 45, 25, 0], [-25, 150, 75, 0]]\n",
      "[[285, 0, 150, -15], [-105, -190, 110, 0], [-15, -45, 25, 0], [-120, 0, 60, -10], [-15, 45, 25, 0], [-85, 155, 90, 0], [295, 0, 150, 120], [-105, -190, 110, 0], [-15, -45, 25, 0], [-120, 0, 60, -10], [-15, 45, 25, 0], [-85, 155, 90, 0]]\n",
      "[[325, 0, 165, 45], [-85, -100, 70, 0], [-15, -45, 25, 0], [-120, 0, 60, -10], [-15, 45, 25, 0], [-85, 135, 85, 0], [325, 0, 165, 95], [-85, -100, 70, 0], [-15, -45, 25, 0], [-120, 0, 60, -10], [-15, 45, 25, 0], [-85, 135, 85, 0]]\n",
      "[[165, 0, 85, 0], [15, -100, 50, 0], [5, -45, 25, 0], [-120, 0, 20, -10], [-15, 45, 25, 0], [10, 90, 50, 0], [165, 0, 85, 0], [15, -100, 50, 0], [5, -45, 25, 0], [-120, 0, 60, -10], [-15, 45, 25, 0], [10, 90, 50, 0]]\n",
      "[[165, 0, 85, -35], [5, -30, 50, 0], [-15, -45, 25, 0], [-120, 0, 60, -10], [-15, 45, 25, 0], [5, 80, 50, 0], [165, 0, 85, 0], [5, -30, 50, 0], [-15, -45, 25, 0], [-120, 0, 60, -10], [-15, 45, 25, 0], [5, 80, 50, 0]]\n",
      "[[325, 0, 165, -90], [-75, -75, 60, 0], [-15, -45, 25, 0], [-120, 0, 60, -10], [-15, 45, 25, 0], [-85, 135, 75, 0], [325, 0, 165, 45], [-75, -75, 60, 0], [-15, -45, 25, 0], [-120, 0, 60, -10], [-15, 45, 25, 0], [-85, 135, 75, 0]]\n",
      "[[245, -95, 40, -30], [-40, -60, 50, 0], [-15, -45, 25, 0], [-120, 0, 60, -10], [-15, 45, 25, 0], [-40, 105, 50, 0], [245, -60, 125, -30], [-40, -60, 50, 0], [-15, -45, 25, 0], [-120, 0, 60, -10], [-15, 45, 25, 0], [-40, 105, 50, 0]]\n",
      "[[-90, 0, 95, 80], [-75, -225, 115, 0], [-15, -45, 25, 0], [-120, 0, 60, -10], [-15, 45, 25, 0], [-25, 165, 90, 0], [-75, 0, 80, 0], [-75, -225, 115, 0], [-15, -45, 25, 0], [-120, 0, 60, -10], [-15, 45, 25, 0], [-25, 165, 90, 0]]\n",
      "[[305, 0, 155, 95], [-75, -100, 70, 0], [-15, -45, 25, 0], [-120, 0, 60, -10], [-15, 45, 25, 0], [-85, 150, 85, 0], [325, 0, 165, -110], [-75, -100, 60, 0], [-15, -45, 25, 0], [-120, 0, 60, -10], [-15, 45, 25, 0], [-85, 150, 85, 0]]\n",
      "[[240, 0, 120, -85], [-30, -105, 50, 0], [-15, -45, 25, 0], [-120, 0, 60, -10], [-15, 45, 25, 0], [-30, 150, 85, 0], [240, 0, 120, -90], [-30, -105, 50, 0], [-15, -45, 25, 0], [-120, 0, 60, -10], [-15, 45, 25, 0], [-30, 150, 85, 0]]\n",
      "[[-105, 0, 135, 40], [-75, -220, 120, 0], [-15, -45, 25, 0], [-120, 0, 60, -10], [-15, 45, 25, 0], [-75, 155, 90, 0], [-120, 0, 135, -20], [-75, -220, 120, 0], [-15, -45, 25, 0], [-120, 0, 60, -10], [-15, 45, 25, 0], [-75, 155, 90, 0]]\n",
      "[[165, 0, 85, 0], [15, -100, 50, 0], [5, -45, 25, 0], [-120, 0, 40, -10], [-15, 45, 25, 0], [10, 80, 50, 0], [165, 0, 85, 0], [15, -100, 50, 0], [5, -45, 25, 0], [-120, 0, 40, -10], [-15, 45, 25, 0], [10, 80, 50, 0]]\n",
      "[[325, 0, 165, -125], [-90, -130, 90, 0], [-15, -45, 25, 0], [-120, 0, 60, -10], [-15, 45, 25, 0], [-85, 155, 90, 0], [325, 0, 165, -25], [-90, -130, 90, 0], [-15, -45, 25, 0], [-120, 0, 60, -10], [-15, 45, 25, 0], [-85, 155, 90, 0]]\n",
      "[[165, 0, 85, -35], [5, -30, 50, 0], [-15, -45, 25, 0], [-120, 0, 60, -10], [-15, 45, 25, 0], [5, 80, 50, 0], [165, 0, 85, -35], [5, -30, 50, 0], [5, -45, 25, 0], [-120, 0, 60, -10], [-15, 45, 25, 0], [5, 80, 50, 0]]\n",
      "[[225, 0, 110, 90], [-30, -145, 75, 0], [-15, -45, 25, 0], [-120, 0, 60, -10], [-15, 45, 25, 0], [-30, 180, 85, 0], [225, 0, 110, -50], [-30, -135, 75, 0], [-15, -45, 25, 0], [-120, 0, 60, -10], [-15, 45, 25, 0], [-30, 180, 85, 0]]\n",
      "[[245, 0, 115, 95], [-40, -90, 50, 0], [-15, -45, 25, 0], [-120, 0, 60, -10], [-15, 45, 25, 0], [-25, 150, 50, 0], [245, 0, 125, 80], [-40, -90, 50, 0], [-15, -45, 25, 0], [-120, 0, 60, -10], [-15, 45, 25, 0], [-25, 150, 50, 0]]\n",
      "[[290, 0, 25, 30], [-45, -60, 50, 0], [-15, -45, 25, 0], [-120, 0, 60, -10], [-15, 45, 25, 0], [-45, 120, 50, 0], [275, -60, 140, -30], [-45, -60, 45, 0], [-15, -45, 25, 0], [-120, 0, 60, -10], [-15, 45, 25, 0], [-45, 120, 50, 0]]\n",
      "[[270, 0, 135, -115], [-45, -105, 65, 0], [-15, -45, 25, 0], [-120, 0, 60, -10], [-15, 45, 25, 0], [-25, 150, 85, 0], [270, 0, 135, -115], [-45, -105, 65, 0], [-15, -45, 25, 0], [-120, 0, 60, -10], [-15, 45, 25, 0], [-25, 150, 85, 0]]\n",
      "[[-105, 0, 125, 105], [-75, -220, 115, 0], [-15, -45, 25, 0], [-120, 0, 60, -10], [-15, 45, 25, 0], [-50, 165, 90, 0], [245, 0, 125, -55], [-75, -220, 115, 0], [-15, -45, 25, 0], [-120, 0, 60, -10], [-15, 45, 25, 0], [-50, 165, 90, 0]]\n",
      "[[245, 0, 120, -70], [-30, -135, 75, 0], [-15, -45, 25, 0], [-120, 0, 60, -10], [-15, 45, 25, 0], [-25, 165, 85, 0], [235, 0, 125, 30], [-30, -135, 75, 0], [-15, -45, 25, 0], [-120, 0, 60, -10], [-15, 45, 25, 0], [-25, 165, 85, 0]]\n",
      "[[-90, 0, 5, -10], [-75, -220, 115, 0], [-15, -45, 25, 0], [-120, 0, 60, -10], [-15, 45, 25, 0], [-75, 165, 80, 0], [135, 0, 65, -55], [-75, -220, 115, 0], [-15, -45, 40, 0], [-120, 0, 60, -10], [-15, 45, 25, 0], [-75, 165, 80, 0]]\n",
      "[[245, 0, 125, -55], [-75, -220, 115, 0], [-15, -45, 25, 0], [-120, 0, 60, -10], [-15, 45, 25, 0], [-40, 165, 90, 0], [260, 0, 135, -20], [-75, -220, 115, 0], [-15, -45, 25, 0], [-120, 0, 60, -10], [-15, 45, 25, 0], [-40, 165, 90, 0]]\n",
      "[[210, 0, 105, -20], [-30, -130, 65, 0], [-15, -45, 25, 0], [-120, 0, 60, -10], [-15, 45, 25, 0], [-30, 180, 85, 0], [210, 0, 105, -70], [-30, -130, 65, 0], [-15, -45, 25, 0], [-120, 0, 60, -10], [-15, 45, 25, 0], [-30, 180, 85, 0]]\n",
      "[[165, 0, 85, 0], [15, -100, 50, 0], [-15, -45, 25, 0], [-120, 0, 20, -10], [-15, 45, 25, 0], [10, 100, 50, 0], [165, 0, 85, 30], [15, -100, 50, 0], [-15, -45, 25, 0], [-120, 0, 20, -10], [-15, 45, 25, 0], [10, 100, 50, 0]]\n",
      "[[325, 0, 165, -90], [-75, -220, 120, 0], [-15, -45, 25, 0], [-120, 0, 60, -10], [-15, 45, 25, 0], [-75, 155, 90, 0], [-105, 0, 165, 120], [-75, -220, 120, 0], [-15, -45, 25, 0], [-120, 0, 60, -10], [-15, 45, 25, 0], [-75, 155, 90, 0]]\n",
      "[[175, 0, 90, -75], [-30, -210, 95, 0], [-15, -45, 25, 0], [-120, 0, 60, -10], [-15, 45, 25, 0], [-30, 180, 90, 0], [175, 0, 90, -50], [-30, -210, 95, 0], [-15, -45, 25, 0], [-120, 0, 60, -10], [-15, 45, 25, 0], [-30, 180, 90, 0]]\n",
      "[[300, 0, 150, -30], [-75, -75, 55, 0], [-15, -45, 25, 0], [-120, 0, 60, -10], [-15, 45, 25, 0], [-45, 140, 75, 0], [305, 0, 150, 95], [-75, -75, 55, 0], [-15, -45, 25, 0], [-120, 0, 60, -10], [-15, 45, 25, 0], [-45, 140, 75, 0]]\n",
      "[[-105, 0, 130, 35], [-75, -220, 115, 0], [-15, -45, 25, 0], [-120, 0, 60, -10], [-15, 45, 25, 0], [-75, 155, 80, 0], [260, 0, 125, -55], [-75, -220, 115, 0], [-15, -45, 25, 0], [-120, 0, 60, -10], [-15, 45, 25, 0], [-75, 155, 80, 0]]\n",
      "[[270, 0, 135, 0], [-45, -165, 90, 0], [-15, -45, 25, 0], [-120, 0, 60, -10], [-15, 45, 25, 0], [-40, 165, 90, 0], [265, 0, 135, -115], [-45, -165, 90, 0], [-15, -45, 25, 0], [-120, 0, 60, -10], [-15, 45, 25, 0], [-40, 165, 90, 0]]\n",
      "[[165, 0, 85, 30], [5, -30, 50, 0], [-15, -45, 25, 0], [-120, 0, 60, -10], [-15, 45, 25, 0], [10, 90, 50, 0], [165, 0, 85, 0], [5, -30, 50, 0], [-15, -45, 25, 0], [-120, 0, 60, -10], [-15, 45, 25, 0], [10, 90, 50, 0]]\n",
      "[[245, 0, 125, -55], [-75, -220, 115, 0], [-15, -45, 25, 0], [-120, 0, 60, -10], [-15, 45, 25, 0], [-85, 165, 90, 0], [-105, 0, 125, 105], [-75, -220, 115, 0], [-15, -45, 25, 0], [-120, 0, 60, -10], [-15, 45, 25, 0], [-85, 165, 90, 0]]\n",
      "[[225, 0, 105, -40], [-30, -105, 50, 0], [-15, -45, 25, 0], [-120, 0, 60, -10], [-15, 45, 25, 0], [-30, 150, 50, 0], [225, 0, 105, -40], [-30, -105, 50, 0], [-15, -45, 25, 0], [-120, 0, 60, -10], [-15, 45, 25, 0], [-30, 150, 50, 0]]\n",
      "[[165, 0, 85, 55], [10, -130, 65, 0], [-15, -45, 25, 0], [-120, 0, 60, -10], [-15, 45, 25, 0], [10, 180, 50, 0], [165, 0, 85, 0], [10, -130, 65, 0], [-15, -45, 25, 0], [-120, 0, 60, -10], [-15, 45, 25, 0], [10, 180, 50, 0]]\n",
      "[[285, 0, 150, 20], [-105, -175, 100, 0], [-15, -45, 25, 0], [-120, 0, 60, -10], [-15, 45, 25, 0], [-85, 155, 90, 0], [285, 0, 150, 45], [-105, -175, 100, 0], [-15, -45, 25, 0], [-120, 0, 60, -10], [-15, 45, 25, 0], [-85, 155, 90, 0]]\n",
      "[[-120, 0, 180, -15], [-75, -220, 120, 0], [-15, -45, 25, 0], [-120, 0, 60, -10], [-15, 45, 25, 0], [-75, 155, 80, 0], [325, 0, 165, -55], [-75, -220, 120, 0], [-15, -45, 25, 0], [-120, 0, 60, -10], [-15, 45, 25, 0], [-75, 155, 80, 0]]\n",
      "[[285, 0, 140, -15], [-90, -150, 90, 0], [-15, -45, 25, 0], [-120, 0, 60, -10], [-15, 45, 25, 0], [-45, 155, 85, 0], [285, 0, 140, -85], [-90, -150, 90, 0], [-15, -45, 25, 0], [-120, 0, 60, -10], [-15, 45, 25, 0], [-45, 155, 85, 0]]\n",
      "[[285, 0, 140, -115], [-90, -135, 75, 0], [-15, -45, 25, 0], [-120, 0, 60, -10], [-15, 45, 25, 0], [-45, 155, 85, 0], [285, 0, 140, -85], [-55, -135, 75, 0], [-15, -45, 25, 0], [-120, 0, 60, -10], [-15, 45, 25, 0], [-45, 155, 85, 0]]\n",
      "[[50, -95, 40, 0], [-40, -30, 50, 0], [-15, -45, 25, 0], [-120, 0, 60, -10], [-15, 45, 25, 0], [-15, 90, 50, 0], [50, -95, 40, 0], [-30, -30, 50, 0], [-15, -45, 25, 0], [-120, 0, 60, -10], [-15, 45, 25, 0], [-15, 90, 50, 0]]\n",
      "[[175, 0, 90, -40], [-5, -100, 50, 0], [-15, -45, 25, 0], [-120, 0, 20, -10], [-15, 45, 25, 0], [10, 100, 50, 0], [175, 0, 90, -5], [5, -100, 50, 0], [-15, -45, 25, 0], [-120, 0, 60, -10], [-15, 45, 25, 0], [10, 100, 50, 0]]\n",
      "[[165, 0, 85, 55], [0, -225, 110, 0], [-15, -45, 25, 0], [-120, 0, 60, -10], [-15, 45, 25, 0], [-30, 180, 90, 0], [165, 0, 85, 35], [0, -225, 110, 0], [-15, -45, 25, 0], [-120, 0, 60, -10], [-15, 45, 25, 0], [-30, 180, 90, 0]]\n",
      "[[265, 0, 135, -20], [-75, -220, 115, 0], [-15, -45, 25, 0], [-120, 0, 60, -10], [-15, 45, 25, 0], [-85, 165, 90, 0], [265, 0, 135, -80], [-75, -220, 115, 0], [-15, -45, 25, 0], [-120, 0, 60, -10], [-15, 45, 25, 0], [-85, 165, 90, 0]]\n",
      "[[285, 0, 140, -30], [-45, -75, 50, 0], [-15, -45, 25, 0], [-120, 0, 60, -10], [-15, 45, 25, 0], [-45, 140, 70, 0], [285, 0, 140, -30], [-45, -75, 50, 0], [-15, -45, 25, 0], [-120, 0, 60, -10], [-15, 45, 25, 0], [-45, 140, 70, 0]]\n",
      "[[285, 0, 135, 15], [-45, -90, 50, 0], [-15, -45, 25, 0], [-120, 0, 60, -10], [-15, 45, 25, 0], [-25, 150, 75, 0], [285, 0, 135, 60], [-45, -90, 50, 0], [-15, -45, 25, 0], [-120, 0, 60, -10], [-15, 45, 25, 0], [-25, 150, 75, 0]]\n"
     ]
    }
   ],
   "source": [
    "names = onlyfiles_pants[:100] + onlyfiles_skirt[:100]\n",
    "#names = onlyfiles_pants[-100:] + onlyfiles_skirt[-100:]\n",
    "\n",
    "for name in names:\n",
    "    a = get_data_from_spec(name)\n",
    "    data = torch.tensor(a[0]).to(torch.float).to(device)\n",
    "    edge_index = torch.tensor(a[1]).to(device).permute(1,0)\n",
    "    \n",
    "    \n",
    "    out = model(data, edge_index)\n",
    "    out = out.reshape(-1, n_classes)\n",
    "    out = torch.argmax(out, dim=-1) * 5 - 320\n",
    "    out =  out.reshape(-1,4)\n",
    "    \n",
    "    out = out.tolist()\n",
    "    print(out)\n",
    "\n",
    "    out = backto6(name, out, a[2])\n",
    "\n",
    "    save_res(name,out)"
   ]
  }
 ],
 "metadata": {
  "kernelspec": {
   "display_name": "sp",
   "language": "python",
   "name": "python3"
  },
  "language_info": {
   "codemirror_mode": {
    "name": "ipython",
    "version": 3
   },
   "file_extension": ".py",
   "mimetype": "text/x-python",
   "name": "python",
   "nbconvert_exporter": "python",
   "pygments_lexer": "ipython3",
   "version": "3.10.13"
  }
 },
 "nbformat": 4,
 "nbformat_minor": 2
}
